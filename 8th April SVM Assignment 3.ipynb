{
 "cells": [
  {
   "cell_type": "markdown",
   "id": "3e4b005e-aba1-4a3b-9578-6da7ffe155ab",
   "metadata": {},
   "source": [
    "Q1. In order to predict house price based on several characteristics, such as location, square footage,\n",
    "number of bedrooms, etc., you are developing an SVM regression model. Which regression metric in this\n",
    "situation would be the best to employ?\n",
    "Dataset link: https://drive.google.com/file/d/1Z9oLpmt6IDRNw7IeNcHYTGeJRYypRSC0/view?\n",
    "usp=share_link"
   ]
  },
  {
   "cell_type": "markdown",
   "id": "c7047571-d6a4-49d4-9b68-66cf1bdbb5c4",
   "metadata": {},
   "source": [
    "Answer 1: In this situation, Mean Squared Error (MSE) would be a suitable regression metric to employ for evaluating the performance of the SVM regression model. The MSE measures the average squared difference between the predicted house prices and the actual house prices in the dataset. A lower MSE value indicates better performance, as it means that the model is more accurately predicting the house prices."
   ]
  },
  {
   "cell_type": "markdown",
   "id": "eb63542b-be9d-4196-b910-0efad490b859",
   "metadata": {},
   "source": [
    "Q2. You have built an SVM regression model and are trying to decide between using MSE or R-squared as\n",
    "your evaluation metric. Which metric would be more appropriate if your goal is to predict the actual price\n",
    "of a house as accurately as possible?"
   ]
  },
  {
   "cell_type": "markdown",
   "id": "f8d4702d-f29a-4d74-a710-3080f63918ac",
   "metadata": {},
   "source": [
    "Answer 2: Mean Squared Error (MSE) would be a more appropriate evaluation metric for our SVM regression model.\n",
    "\n",
    "The MSE measures the average squared difference between the predicted values and the actual values, with lower values indicating better performance. In the case of predicting house prices, it is important to minimize the difference between the predicted values and the actual values, and the MSE is a direct measure of this difference."
   ]
  },
  {
   "cell_type": "markdown",
   "id": "12abfae7-9205-4aee-9709-4feea9a972cf",
   "metadata": {},
   "source": [
    "Q3. You have a dataset with a significant number of outliers and are trying to select an appropriate\n",
    "regression metric to use with your SVM model. Which metric would be the most appropriate in this\n",
    "scenario?"
   ]
  },
  {
   "cell_type": "markdown",
   "id": "4b005331-3436-43d7-8256-67d65f614ede",
   "metadata": {},
   "source": [
    "Answer 3: When dealing with a dataset that contains a significant number of outliers, Mean Absolute Error (MAE) would be the most appropriate regression metric to use with an SVM model.\n",
    "\n",
    "MAE measures the average absolute difference between the predicted values and the actual values. It is less sensitive to outliers as compared to Mean Squared Error (MSE) since it does not square the errors. Squaring the errors in MSE gives more weight to larger errors, making it more sensitive to outliers."
   ]
  },
  {
   "cell_type": "markdown",
   "id": "7586cf02-0fbd-4ae2-b21d-b95e27475e37",
   "metadata": {},
   "source": [
    "Q4. You have built an SVM regression model using a polynomial kernel and are trying to select the best\n",
    "metric to evaluate its performance. You have calculated both MSE and RMSE and found that both values\n",
    "are very close. Which metric should you choose to use in this case?"
   ]
  },
  {
   "cell_type": "markdown",
   "id": "5732aa43-8362-400b-a80a-cf22ee2f4da1",
   "metadata": {},
   "source": [
    "Answer 4: If the values of Mean Squared Error (MSE) and Root Mean Squared Error (RMSE) are very close to each other, it would be best to choose RMSE as the evaluation metric for the SVM regression model with a polynomial kernel.\n",
    "\n",
    "RMSE is more interpretable than MSE since it is in the same units as the target variable, which in this case is likely to be the house price. Additionally, since RMSE takes the square root of MSE, it has the property of scale invariance, which means that it is not influenced by the scale of the target variable."
   ]
  },
  {
   "cell_type": "markdown",
   "id": "83b7f8d2-60c6-4ec6-8539-0979e72209f3",
   "metadata": {},
   "source": [
    "Q5. You are comparing the performance of different SVM regression models using different kernels (linear,\n",
    "polynomial, and RBF) and are trying to select the best evaluation metric. Which metric would be most\n",
    "appropriate if your goal is to measure how well the model explains the variance in the target variable?"
   ]
  },
  {
   "cell_type": "markdown",
   "id": "1d035cc4-7312-4056-9aee-38516390f2c1",
   "metadata": {},
   "source": [
    "Answer 5: The best evaluation metric to use would be the coefficient of determination, commonly known as R-squared.\n",
    "\n",
    "R-squared measures the proportion of the variance in the target variable that can be explained by the independent variables in the model. It ranges from 0 to 1, with a higher value indicating a better fit of the model to the data. In SVM regression, R-squared can be calculated as the square of the correlation coefficient between the predicted and actual target variables."
   ]
  }
 ],
 "metadata": {
  "kernelspec": {
   "display_name": "Python 3 (ipykernel)",
   "language": "python",
   "name": "python3"
  },
  "language_info": {
   "codemirror_mode": {
    "name": "ipython",
    "version": 3
   },
   "file_extension": ".py",
   "mimetype": "text/x-python",
   "name": "python",
   "nbconvert_exporter": "python",
   "pygments_lexer": "ipython3",
   "version": "3.10.8"
  }
 },
 "nbformat": 4,
 "nbformat_minor": 5
}
