{
 "cells": [
  {
   "cell_type": "markdown",
   "id": "4d4fb189-9f29-4a64-a4f1-b93f27f94031",
   "metadata": {},
   "source": [
    "Q1. What is the relationship between polynomial functions and kernel functions in machine learning\n",
    "algorithms?"
   ]
  },
  {
   "cell_type": "markdown",
   "id": "931f1736-2719-4b4b-8c8c-9d4e9c2f8d86",
   "metadata": {},
   "source": [
    "Answer 1: Polynomial function and kernel functions both involve transforming data into a higher-dimensional space, but they differ in their approach and purpose. Polynomial functions are explicit feature mappings, while kernel functions are generalizations of feature mappings that can be used to implicitly compute the inner product between data points in a higher-dimensional space."
   ]
  },
  {
   "cell_type": "markdown",
   "id": "907ef88d-d889-4ceb-a5a6-2efc530e30d4",
   "metadata": {},
   "source": [
    "Q2. How can we implement an SVM with a polynomial kernel in Python using Scikit-learn?"
   ]
  },
  {
   "cell_type": "code",
   "execution_count": 1,
   "id": "a82def44-c253-4695-9351-4eb304e79d83",
   "metadata": {},
   "outputs": [
    {
     "name": "stdout",
     "output_type": "stream",
     "text": [
      "Accuracy: 1.000\n"
     ]
    }
   ],
   "source": [
    "# Answer 2: \n",
    "from sklearn import datasets\n",
    "from sklearn.model_selection import train_test_split\n",
    "from sklearn.svm import SVC\n",
    "from sklearn.metrics import accuracy_score\n",
    "\n",
    "# Load the iris dataset\n",
    "iris = datasets.load_iris()\n",
    "X = iris.data\n",
    "y = iris.target\n",
    "\n",
    "# Split the dataset into training and testing sets\n",
    "X_train, X_test, y_train, y_test = train_test_split(X, y, test_size=0.3, random_state=42)\n",
    "\n",
    "# Create an SVM model with a polynomial kernel\n",
    "poly_svc = SVC(kernel='poly', degree=2)\n",
    "\n",
    "# Train the model on the training set\n",
    "poly_svc.fit(X_train, y_train)\n",
    "\n",
    "# Make predictions on the test set\n",
    "y_pred = poly_svc.predict(X_test)\n",
    "\n",
    "# Calculate the classification accuracy\n",
    "acc = accuracy_score(y_test, y_pred)\n",
    "\n",
    "# Print the accuracy\n",
    "print(f\"Accuracy: {acc:.3f}\")"
   ]
  },
  {
   "cell_type": "markdown",
   "id": "d82aeaf2-8dc4-4885-8bde-15d7e19a6c39",
   "metadata": {},
   "source": [
    "Q3. How does increasing the value of epsilon affect the number of support vectors in SVR?"
   ]
  },
  {
   "cell_type": "markdown",
   "id": "2b176f04-813b-4274-8f02-d6b203341706",
   "metadata": {},
   "source": [
    "Answer 3: In general, increasing the value of epsilon can result in an increase in the number of support vectors in the SVR model. This is because as the width of the epsilon-insensitive band increases, more data points are allowed to fall within the band without being considered as errors. This means that the margin around the regression line also increases, and more support vectors are needed to define the margin."
   ]
  },
  {
   "cell_type": "markdown",
   "id": "995837e8-fd00-412f-8e05-089f51aa4ca8",
   "metadata": {},
   "source": [
    "Q4. How does the choice of kernel function, C parameter, epsilon parameter, and gamma parameter\n",
    "affect the performance of Support Vector Regression (SVR)? Can you explain how each parameter works\n",
    "and provide examples of when you might want to increase or decrease its value?"
   ]
  },
  {
   "cell_type": "markdown",
   "id": "70366734-8dc6-4f09-ac02-ccb463e6d38e",
   "metadata": {},
   "source": [
    "Answer 4: In Support Vector Regression (SVR), there are several hyperparameters that can have a significant impact on the performance of the model. These include the choice of kernel function, as well as the C parameter, epsilon parameter, and gamma parameter. Here is an overview of how each parameter works and how it can affect the performance of SVR:\n",
    "\n",
    "Choice of kernel function: The kernel function determines the way in which the input data is transformed into a higher-dimensional space in which a linear decision boundary can be found. Common kernel functions include the linear kernel, polynomial kernel, radial basis function (RBF) kernel, and sigmoid kernel. The choice of kernel function can have a significant impact on the performance of SVR, as different kernel functions may be more suitable for different types of data. For example, the RBF kernel is often used for data that is not linearly separable, while the linear kernel may be used for data that has a clear linear relationship.\n",
    "\n",
    "C parameter: The C parameter determines the trade-off between maximizing the margin and minimizing the error. A smaller value of C will result in a wider margin, which may lead to more errors but may also be more robust to noise. Conversely, a larger value of C will result in a narrower margin, which may lead to fewer errors but may also be more sensitive to noise. Choosing the appropriate value of C can be challenging, as it depends on the complexity of the data and the desired balance between accuracy and robustness.\n",
    "\n",
    "Epsilon parameter: The epsilon parameter determines the width of the epsilon-insensitive band around the regression line. Data points that fall within this band are not considered errors and do not contribute to the loss function. A smaller value of epsilon will result in a narrower band, which may lead to a more precise fit but may also be more sensitive to noise. Conversely, a larger value of epsilon will result in a wider band, which may lead to a more robust fit but may also be less precise. Choosing the appropriate value of epsilon requires balancing the trade-off between precision and robustness.\n",
    "\n",
    "Gamma parameter: The gamma parameter determines the width of the RBF kernel. A smaller value of gamma will result in a wider kernel, which may lead to a smoother fit but may also be more susceptible to overfitting. Conversely, a larger value of gamma will result in a narrower kernel, which may lead to a more precise fit but may also be more susceptible to noise. Choosing the appropriate value of gamma requires balancing the trade-off between bias and variance."
   ]
  },
  {
   "cell_type": "code",
   "execution_count": null,
   "id": "e2365371-b951-49d1-9138-ba21d2431f68",
   "metadata": {},
   "outputs": [],
   "source": [
    "Q5. Assignment:\n",
    "L Import the necessary libraries and load the dataseg\n",
    "L Split the dataset into training and testing setZ\n",
    "L Preprocess the data using any technique of your choice (e.g. scaling, normaliMationK\n",
    "L Create an instance of the SVC classifier and train it on the training datW\n",
    "L hse the trained classifier to predict the labels of the testing datW\n",
    "L Evaluate the performance of the classifier using any metric of your choice (e.g. accuracy,\n",
    "precision, recall, F1-scoreK\n",
    "L Tune the hyperparameters of the SVC classifier using GridSearchCV or RandomiMedSearchCV to\n",
    "improve its performanc_\n",
    "L Train the tuned classifier on the entire dataseg\n",
    "L Save the trained classifier to a file for future use.\n",
    "Note: You can use any dataset of your choice for this assignment, but make sure it is suitable for\n",
    "classification and has a sufficient number of features and samples."
   ]
  },
  {
   "cell_type": "code",
   "execution_count": 3,
   "id": "4379248b-8eb3-4d65-ab42-1f42f5e3d6f0",
   "metadata": {},
   "outputs": [
    {
     "name": "stdout",
     "output_type": "stream",
     "text": [
      "Accuracy: 1.0\n",
      "Best parameters: {'C': 0.1, 'kernel': 'poly'}\n",
      "Best score: 0.9866666666666667\n"
     ]
    }
   ],
   "source": [
    "# Import necessary libraries\n",
    "from sklearn.datasets import load_iris\n",
    "from sklearn.model_selection import train_test_split, GridSearchCV\n",
    "from sklearn.preprocessing import StandardScaler\n",
    "from sklearn.svm import SVC\n",
    "from sklearn.metrics import accuracy_score\n",
    "import pickle\n",
    "\n",
    "# Load dataset\n",
    "iris = load_iris()\n",
    "\n",
    "# Split dataset into training and testing set\n",
    "X_train, X_test, y_train, y_test = train_test_split(iris.data, iris.target, test_size=0.2, random_state=42)\n",
    "\n",
    "# Preprocess the data using StandardScaler\n",
    "scaler = StandardScaler()\n",
    "X_train = scaler.fit_transform(X_train)\n",
    "X_test = scaler.transform(X_test)\n",
    "\n",
    "# Create an instance of the SVC classifier and train it on the training data\n",
    "svc = SVC()\n",
    "svc.fit(X_train, y_train)\n",
    "\n",
    "# Use the trained classifier to predict the labels of the testing data\n",
    "y_pred = svc.predict(X_test)\n",
    "\n",
    "# Evaluate the performance of the classifier using accuracy score\n",
    "accuracy = accuracy_score(y_test, y_pred)\n",
    "print(\"Accuracy:\", accuracy)\n",
    "\n",
    "# Tune the hyperparameters of the SVC classifier using GridSearchCV\n",
    "param_grid = {'C': [0.1, 1, 10], 'kernel': ['linear', 'poly', 'rbf', 'sigmoid']}\n",
    "grid_search = GridSearchCV(SVC(), param_grid, cv=5)\n",
    "grid_search.fit(iris.data, iris.target)\n",
    "print(\"Best parameters:\", grid_search.best_params_)\n",
    "print(\"Best score:\", grid_search.best_score_)\n",
    "\n",
    "# Train the tuned classifier on the entire dataset\n",
    "tuned_svc = SVC(C=10, kernel='rbf')\n",
    "tuned_svc.fit(iris.data, iris.target)\n",
    "\n",
    "# Save the trained classifier to a file for future use\n",
    "pickle.dump(tuned_svc, open('iris_svc_classifier.pkl','wb'))"
   ]
  },
  {
   "cell_type": "code",
   "execution_count": null,
   "id": "003a85c6-d0e2-4333-bea1-8c7385472ca3",
   "metadata": {},
   "outputs": [],
   "source": []
  },
  {
   "cell_type": "code",
   "execution_count": null,
   "id": "8a227108-8518-44b3-945f-cc7431fe3af7",
   "metadata": {},
   "outputs": [],
   "source": []
  }
 ],
 "metadata": {
  "kernelspec": {
   "display_name": "Python 3 (ipykernel)",
   "language": "python",
   "name": "python3"
  },
  "language_info": {
   "codemirror_mode": {
    "name": "ipython",
    "version": 3
   },
   "file_extension": ".py",
   "mimetype": "text/x-python",
   "name": "python",
   "nbconvert_exporter": "python",
   "pygments_lexer": "ipython3",
   "version": "3.10.8"
  }
 },
 "nbformat": 4,
 "nbformat_minor": 5
}
