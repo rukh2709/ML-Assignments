{
 "cells": [
  {
   "cell_type": "markdown",
   "id": "e8b90e45-9b34-4479-a117-933aa3bd8c4e",
   "metadata": {},
   "source": [
    "Q1. What is an ensemble technique in machine learning?"
   ]
  },
  {
   "cell_type": "markdown",
   "id": "0b83ea56-ac21-4b18-9422-c3e3c483d0b8",
   "metadata": {},
   "source": [
    "Answer 1: An ensemble technique in machine learning is a method of combining the predictions of multiple individual models in order to improve overall predictive accuracy."
   ]
  },
  {
   "cell_type": "markdown",
   "id": "23ab466b-18d0-4fed-bb49-5170c1be1d8e",
   "metadata": {},
   "source": [
    "Q2. Why are ensemble techniques used in machine learning?"
   ]
  },
  {
   "cell_type": "markdown",
   "id": "92bbc620-459d-4698-80ff-ea54de124d8d",
   "metadata": {},
   "source": [
    "Answer 2: Ensemble techniques in machine learning can help improve the accuracy, robustness, and generalization of models."
   ]
  },
  {
   "cell_type": "markdown",
   "id": "02d45f60-2e74-4e6f-a694-a4f50c081988",
   "metadata": {},
   "source": [
    "Q3. What is bagging?"
   ]
  },
  {
   "cell_type": "markdown",
   "id": "07f29ba9-1687-4155-a565-289d0ea9dc70",
   "metadata": {},
   "source": [
    "Answer 3: Bagging (Bootstrap Aggregating) is a popular ensemble technique in machine learning that involves building multiple independent models on different subsets of the training data and then combining their predictions to make a final prediction."
   ]
  },
  {
   "cell_type": "markdown",
   "id": "cf692375-f8e0-4e29-aa06-b878dedebe7c",
   "metadata": {},
   "source": [
    "Q4. What is boosting?"
   ]
  },
  {
   "cell_type": "markdown",
   "id": "7026dc6a-ba45-4ec7-87ad-ed66c0c045b5",
   "metadata": {},
   "source": [
    "Answer 4: Boosting is another popular ensemble technique in machine learning that involves building a sequence of weak models, each of which is trained to improve upon the errors of the previous model. The goal of boosting is to combine the strengths of multiple weak models to create a strong overall model that can make more accurate predictions."
   ]
  },
  {
   "cell_type": "markdown",
   "id": "abb20171-1b7e-4509-b907-f5710a5e528f",
   "metadata": {},
   "source": [
    "Q5. What are the benefits of using ensemble techniques?"
   ]
  },
  {
   "cell_type": "markdown",
   "id": "06966dfd-05d6-4830-a4b4-73e22ef87504",
   "metadata": {},
   "source": [
    "Answer 5: Ensemble techniques are a powerful and widely used approach to machine learning that can help improve the accuracy, robustness, and generalization of models, while also providing flexibility, scalability, and interpretability."
   ]
  },
  {
   "cell_type": "markdown",
   "id": "57961e51-7124-4176-80e5-9e619b27dfb5",
   "metadata": {},
   "source": [
    "Q6. Are ensemble techniques always better than individual models?"
   ]
  },
  {
   "cell_type": "markdown",
   "id": "7f358da3-2b0b-449d-801c-f34c1fde418a",
   "metadata": {},
   "source": [
    "Answer 6: Ensemble techniques can often outperform individual models, but this is not always the case. "
   ]
  },
  {
   "cell_type": "markdown",
   "id": "f25993e7-4352-4472-a1be-7b4071a21da0",
   "metadata": {},
   "source": [
    "Q7. How is the confidence interval calculated using bootstrap?"
   ]
  },
  {
   "cell_type": "markdown",
   "id": "4b7b2567-b625-495a-b3a0-87b0a2e3da73",
   "metadata": {},
   "source": [
    "Answer 7: Following are the steps to calculate the confidence interval using bootstrap:\n",
    "\n",
    "Sample with replacement: Randomly select a sample of data with replacement from the original data, creating a new bootstrap sample of the same size as the original data.\n",
    "\n",
    "Calculate the statistic: Calculate the statistic of interest (e.g., mean, median, variance) on the bootstrap sample.\n",
    "\n",
    "Repeat: Repeat steps 1 and 2 many times (typically 1,000 or more) to create a large number of bootstrap statistics.\n",
    "\n",
    "Estimate the confidence interval: Sort the bootstrap statistics and calculate the 2.5th and 97.5th percentiles to create a 95% confidence interval. This interval represents the range of values that contains the central 95% of the bootstrap statistics, and can be used to estimate the confidence interval of the parameter of interest."
   ]
  },
  {
   "cell_type": "markdown",
   "id": "c563da9d-0f53-4a84-a637-6c58440c556d",
   "metadata": {},
   "source": [
    "Q8. How does bootstrap work and What are the steps involved in bootstrap?"
   ]
  },
  {
   "cell_type": "markdown",
   "id": "adc06dad-ff0b-4053-bdc6-2abb32258bb1",
   "metadata": {},
   "source": [
    "Answer 8: Bootstrap is a statistical resampling method that allows us to estimate the sampling distribution of a statistic from a single sample of data. It works by repeatedly resampling the original data with replacement to create many new \"bootstrap samples\", and then using these samples to estimate the variability of a statistic of interest.\n",
    "\n",
    "Following are the steps involved in bootstrap:\n",
    "\n",
    "Obtain a sample of data: Collect a sample of data from the population of interest.\n",
    "\n",
    "Resample with replacement: Randomly select data from the original sample with replacement to create a new bootstrap sample. The size of the bootstrap sample should be the same as the original sample.\n",
    "\n",
    "Calculate the statistic of interest: Calculate the statistic of interest (e.g. mean, variance, correlation coefficient) on the bootstrap sample.\n",
    "\n",
    "Repeat steps 2-3: Repeat steps 2-3 many times (e.g. 1000 times) to create many bootstrap samples and calculate the statistic of interest for each bootstrap sample.\n",
    "\n",
    "Estimate the sampling distribution: Use the bootstrap statistics to estimate the sampling distribution of the statistic of interest. This can be done by calculating the mean, standard deviation, and confidence intervals of the bootstrap statistics.\n",
    "\n",
    "Draw conclusions: Use the estimated sampling distribution to draw conclusions about the population parameter or to test hypotheses."
   ]
  },
  {
   "cell_type": "markdown",
   "id": "b7ecb853-fdae-44e0-8e66-e0aaea08bd81",
   "metadata": {},
   "source": [
    "Q9. A researcher wants to estimate the mean height of a population of trees. They measure the height of a\n",
    "sample of 50 trees and obtain a mean height of 15 meters and a standard deviation of 2 meters. Use\n",
    "bootstrap to estimate the 95% confidence interval for the population mean height."
   ]
  },
  {
   "cell_type": "markdown",
   "id": "7087a425-c8c7-4fc3-954c-b6d06025f207",
   "metadata": {},
   "source": [
    "Answer 9:\n",
    "standard error = standard deviation of bootstrap means\n",
    "                = standard deviation of original sample / sqrt(sample size)\n",
    "                = 2 / sqrt(50)\n",
    "                = 0.28\n",
    "95% confidence interval = (mean of bootstrap sample means) ± (1.96 * standard error)\n",
    "95% confidence interval = 15 ± (1.96 * 0.28)\n",
    "                        = (14.45, 15.55)\n",
    "Therefore, we can be 95% confident that the true mean height of the population of trees lies between 14.45 meters and 15.55 meters, based on the sample of 50 trees."
   ]
  }
 ],
 "metadata": {
  "kernelspec": {
   "display_name": "Python 3 (ipykernel)",
   "language": "python",
   "name": "python3"
  },
  "language_info": {
   "codemirror_mode": {
    "name": "ipython",
    "version": 3
   },
   "file_extension": ".py",
   "mimetype": "text/x-python",
   "name": "python",
   "nbconvert_exporter": "python",
   "pygments_lexer": "ipython3",
   "version": "3.10.8"
  }
 },
 "nbformat": 4,
 "nbformat_minor": 5
}
