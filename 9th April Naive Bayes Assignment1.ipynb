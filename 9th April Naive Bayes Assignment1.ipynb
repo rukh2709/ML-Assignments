{
 "cells": [
  {
   "cell_type": "markdown",
   "id": "e46acab2-d6d2-46d7-9e40-5b51123cfe35",
   "metadata": {},
   "source": [
    "Q1. What is Bayes' theorem?"
   ]
  },
  {
   "cell_type": "markdown",
   "id": "6c4216f3-8d03-460b-adec-41a230d30ce8",
   "metadata": {},
   "source": [
    "Answer 1: Bayes theorem is a statistical formula to determine the conditional probability of an event. It describes the probability of an event based on prior knowledge of events that have already happened."
   ]
  },
  {
   "cell_type": "markdown",
   "id": "522b50e2-004f-4e0b-a38f-f56b92bb637e",
   "metadata": {},
   "source": [
    "Q2. What is the formula for Bayes' theorem?"
   ]
  },
  {
   "cell_type": "markdown",
   "id": "5385c06c-ea53-478b-af04-49bef6687b9b",
   "metadata": {},
   "source": [
    "Answer 2: Its formula for random events is \n",
    "P(A|B)= P(B|A).P(A)/P(B)\n",
    "A, B\t=\tevents\n",
    "P(A|B)\t=\tprobability of A given B is true\n",
    "P(B|A)\t=\tprobability of B given A is true\n",
    "P(A), P(B)\t=\tthe independent probabilities of A and B"
   ]
  },
  {
   "cell_type": "markdown",
   "id": "3fc52882-38b0-42ba-bde6-216c107682ce",
   "metadata": {},
   "source": [
    "Q3. How is Bayes' theorem used in practice?"
   ]
  },
  {
   "cell_type": "markdown",
   "id": "80360ed9-375e-4df0-8ed4-337ccd64f5d6",
   "metadata": {},
   "source": [
    "Answer 3: One of the most common applications of Bayes' theorem is in the field of medical testing. For example, consider a patient who has been tested for a rare disease that affects only 1 in 10,000 people. If the test is 99% accurate, what is the probability that the patient has the disease?\n",
    "\n",
    "Using Bayes' theorem, we can calculate the probability that the patient has the disease given a positive test result. Let A denote the event that the patient has the disease, and B denote the event that the patient tests positive. Then, Bayes' theorem states that:\n",
    "\n",
    "P(A|B) = P(B|A)P(A) / P(B)\n",
    "\n",
    "where P(A|B) is the probability that the patient has the disease given a positive test result, P(B|A) is the probability of a positive test result given that the patient has the disease (which is 99%), P(A) is the prior probability of the patient having the disease (which is 1/10,000), and P(B) is the probability of a positive test result, which can be calculated using the law of total probability:\n",
    "\n",
    "P(B) = P(B|A)P(A) + P(B|not A)P(not A)\n",
    "\n",
    "where P(B|not A) is the probability of a false positive (which is 1% in this case) and P(not A) is the complement of P(A) (i.e., the probability that the patient does not have the disease, which is 9,999/10,000).\n",
    "\n",
    "Putting in the values, we get:\n",
    "\n",
    "P(A|B) = (0.99)(0.0001) / [(0.99)(0.0001) + (0.01)(0.9999)] = 0.0098 or 0.98%\n",
    "\n",
    "This means that even if the patient tests positive, there is still only a 0.98% chance that the patient actually has the disease."
   ]
  },
  {
   "cell_type": "markdown",
   "id": "164282df-3750-4b0d-864b-acfad993fa20",
   "metadata": {},
   "source": [
    "Q4. What is the relationship between Bayes' theorem and conditional probability?"
   ]
  },
  {
   "cell_type": "markdown",
   "id": "f1be5770-ff52-46c0-8da5-96168a6e4b2e",
   "metadata": {},
   "source": [
    "Answer 4: Bayes' theorem is a mathematical formula that relates conditional probabilities, and in fact, it is a way to calculate conditional probabilities in certain situations."
   ]
  },
  {
   "cell_type": "markdown",
   "id": "adc459b6-8dd8-4af9-89f9-71cd1430d0fd",
   "metadata": {},
   "source": [
    "Q5. How do you choose which type of Naive Bayes classifier to use for any given problem?"
   ]
  },
  {
   "cell_type": "markdown",
   "id": "715976d6-1b49-4a43-ba5d-badf266de2c3",
   "metadata": {},
   "source": [
    "Answer 5: Naive Bayes is a family of probabilistic algorithms that are commonly used for classification tasks. There are three main types of Naive Bayes classifiers: Gaussian Naive Bayes, Multinomial Naive Bayes, and Bernoulli Naive Bayes. The choice of which type of Naive Bayes classifier to use depends on the type of data being analyzed and the specific problem being addressed. Here are some guidelines for choosing the appropriate type of Naive Bayes classifier:\n",
    "\n",
    "Gaussian Naive Bayes: This classifier is used when the features are continuous variables and the data is normally distributed. It assumes that the data follows a Gaussian (normal) distribution, and estimates the mean and variance of each feature for each class. It works well for problems where the features are continuous and the distribution of the data is known to be Gaussian.\n",
    "\n",
    "Multinomial Naive Bayes: This classifier is used when the features are discrete variables such as word counts or frequencies. It works well for text classification problems, where the input features are often counts of the number of times each word appears in a document. It assumes that the features are independent and follow a multinomial distribution.\n",
    "\n",
    "Bernoulli Naive Bayes: This classifier is similar to Multinomial Naive Bayes, but it is used when the features are binary or Boolean, such as the presence or absence of a particular feature. It assumes that the features are independent and follow a Bernoulli distribution. It works well for problems such as spam filtering or sentiment analysis, where the input features are binary."
   ]
  },
  {
   "cell_type": "code",
   "execution_count": null,
   "id": "a6ca69e2-fbd5-446f-9a32-b41977b7e5ef",
   "metadata": {},
   "outputs": [],
   "source": [
    "Q6. Assignment:\n",
    "You have a dataset with two features, X1 and X2, and two possible classes, A and B. You want to use Naive\n",
    "Bayes to classify a new instance with features X1 = 3 and X2 = 4. The following table shows the frequency of\n",
    "each feature value for each class:\n",
    "Class X1=1 X1=2 X1=3 X2=1 X2=2 X2=3 X2=4\n",
    "A      3    3     4    4    3    3    3\n",
    "B      2    2     1    2    2    2    3\n",
    "Assuming equal prior probabilities for each class, which class would Naive Bayes predict the new instance\n",
    "to belong to?"
   ]
  },
  {
   "cell_type": "markdown",
   "id": "024868c9-b70c-4d77-ab90-b47e392a66ca",
   "metadata": {},
   "source": [
    "Answer 6: To predict the class of a new instance using Naive Bayes, we need to calculate the posterior probabilities of each class given the values of the input features. Using Bayes' theorem, the posterior probability of class A given the feature values X1=3 and X2=4 is:\n",
    "\n",
    "P(A | X1=3, X2=4) = P(X1=3, X2=4 | A) * P(A) / P(X1=3, X2=4)\n",
    "\n",
    "Similarly, the posterior probability of class B is:\n",
    "\n",
    "P(B | X1=3, X2=4) = P(X1=3, X2=4 | B) * P(B) / P(X1=3, X2=4)\n",
    "\n",
    "We can simplify this calculation by assuming that the features are independent given the class, which is the Naive Bayes assumption. This means that we can calculate the likelihood of the feature values for each class separately, and then multiply them together to get the joint likelihood of the feature values given each class. The likelihood of each feature value for each class is given in the table. For example, the likelihood of X1=3 and class A is:\n",
    "\n",
    "P(X1=3 | A) = 4/10\n",
    "\n",
    "Similarly, the likelihood of X2=4 and class A is:\n",
    "\n",
    "P(X2=4 | A) = 3/10\n",
    "\n",
    "Multiplying these likelihoods together, we get the joint likelihood of X1=3 and X2=4 given class A:\n",
    "\n",
    "P(X1=3, X2=4 | A) = P(X1=3 | A) * P(X2=4 | A) = (4/10) * (3/10) = 0.12\n",
    "\n",
    "We can calculate the joint likelihoods for all four combinations of feature values and classes. The results are:\n",
    "\n",
    "P(X1=3, X2=4 | A) = 0.12\n",
    "P(X1=3, X2=4 | B) = 0.06\n",
    "P(X1=1, X2=4 | A) = 0.04\n",
    "P(X1=1, X2=4 | B) = 0.06\n",
    "\n",
    "Next, we need to calculate the marginal likelihood of the feature values, which is the probability of observing the specific values of the features regardless of the class. This can be calculated as:\n",
    "\n",
    "P(X1=3, X2=4) = P(X1=3, X2=4 | A) * P(A) + P(X1=3, X2=4 | B) * P(B)\n",
    "\n",
    "Substituting the values from the table, we get:\n",
    "\n",
    "P(X1=3, X2=4) = (0.12 * 0.5) + (0.06 * 0.5) = 0.09\n",
    "\n",
    "Finally, we can calculate the posterior probabilities of each class using Bayes' theorem:\n",
    "\n",
    "P(A | X1=3, X2=4) = (0.12 * 0.5) / 0.09 = 0.67\n",
    "P(B | X1=3, X2=4) = (0.06 * 0.5) / 0.09 = 0.33\n",
    "\n",
    "Therefore, Naive Bayes would predict that the new instance belongs to class A."
   ]
  }
 ],
 "metadata": {
  "kernelspec": {
   "display_name": "Python 3 (ipykernel)",
   "language": "python",
   "name": "python3"
  },
  "language_info": {
   "codemirror_mode": {
    "name": "ipython",
    "version": 3
   },
   "file_extension": ".py",
   "mimetype": "text/x-python",
   "name": "python",
   "nbconvert_exporter": "python",
   "pygments_lexer": "ipython3",
   "version": "3.10.8"
  }
 },
 "nbformat": 4,
 "nbformat_minor": 5
}
