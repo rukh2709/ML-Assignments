{
 "cells": [
  {
   "cell_type": "markdown",
   "id": "f9602daf-f8a5-436a-b30f-83d8251794c9",
   "metadata": {},
   "source": [
    "Q1. What is the difference between Ordinal Encoding and Label Encoding? Provide an example of when you\n",
    "might choose one over the other."
   ]
  },
  {
   "cell_type": "markdown",
   "id": "6d42c40d-7c33-4b97-9e80-0ae6afffbd78",
   "metadata": {},
   "source": [
    "Answer 1: Ordinal Encoding is a technique where the categories of a variable are assigned numerical values based on their order or rank. For example, if we have a variable 'Education Level' with categories 'High School', 'College', and 'Graduate School', we can assign numerical values 1, 2, and 3 respectively. This technique is useful when there is a clear ordering or hierarchy among the categories.\n",
    "\n",
    "Label Encoding, on the other hand, is a technique where each category is assigned a unique numerical value. For example, if we have a variable 'Color' with categories 'Red', 'Blue', and 'Green', we can assign numerical values 1, 2, and 3 respectively. This technique is useful when there is no clear ordering among the categories.\n",
    "\n",
    "An example of when to choose one over the other can be a dataset with a variable 'Age Range' with categories '0-10', '11-20', '21-30', '31-40', and '41+'. Here, Ordinal Encoding can be used to assign numerical values 1, 2, 3, 4, and 5 respectively based on the order of the categories. On the other hand, if we have a variable 'Country' with categories 'USA', 'Canada', 'India', and 'Australia', there is no clear order, and Label Encoding can be used to assign numerical values 1, 2, 3, and 4 respectively."
   ]
  },
  {
   "cell_type": "markdown",
   "id": "e1db30ae-e8fb-4053-b1a3-06de3a862e3d",
   "metadata": {},
   "source": [
    "Q2. Explain how Target Guided Ordinal Encoding works and provide an example of when you might use it in\n",
    "a machine learning project."
   ]
  },
  {
   "cell_type": "markdown",
   "id": "6c2facbf-dc44-4f92-9aa9-4e9f71ce6c4f",
   "metadata": {},
   "source": [
    "Answer 2: Target Guided Ordinal Encoding is a technique used to encode categorical variables based on their relationship with the target variable. In this technique, each category of the variable is assigned a numerical value based on the mean of the target variable for that category. The categories with the highest mean values are assigned the highest numerical values, and the categories with the lowest mean values are assigned the lowest numerical values.\n",
    "\n",
    "For example, let's consider a dataset with a categorical variable 'City' and a binary target variable 'Response' (0 or 1). We can calculate the mean response rate for each city, and then assign numerical values based on these mean values. Cities with a higher response rate will be assigned higher numerical values, and cities with a lower response rate will be assigned lower numerical values."
   ]
  },
  {
   "cell_type": "markdown",
   "id": "d8558e94-2ae8-43e5-968f-c3b37ab1e07a",
   "metadata": {},
   "source": [
    "Q3. Define covariance and explain why it is important in statistical analysis. How is covariance calculated?"
   ]
  },
  {
   "cell_type": "markdown",
   "id": "63033e22-0aff-488a-b2b7-1c8689712cb1",
   "metadata": {},
   "source": [
    "Answer 3: Covariance is a measure of the degree to which two random variables change together. It describes the relationship between two variables, indicating whether they tend to vary in the same direction (positive covariance), opposite direction (negative covariance), or are not related (zero covariance).\n",
    "\n",
    "Covariance is important in statistical analysis because it provides information about the degree to which two variables are related.\n",
    "\n",
    "Suppose we have the following data for two variables, X and Y:\n",
    "\n",
    "X = [1, 2, 3, 4, 5]\n",
    "Y = [6, 7, 8, 9, 10]\n",
    "\n",
    "(1) Calculate the mean of X and Y:\n",
    "mean(X) = (1+2+3+4+5)/5 = 3\n",
    "mean(Y) = (6+7+8+9+10)/5 = 8\n",
    "\n",
    "(2) Subtract the mean of X from each value of X, and subtract the mean of Y from each value of Y:\n",
    "X_dev = [1-3, 2-3, 3-3, 4-3, 5-3] = [-2, -1, 0, 1, 2]\n",
    "Y_dev = [6-8, 7-8, 8-8, 9-8, 10-8] = [-2, -1, 0, 1, 2]\n",
    "\n",
    "(3) Multiply the resulting deviations for each pair of observations (X and Y) together:\n",
    "prod_dev = [-2*(-2), -1*(-1), 00, 11, 2*2] = [4, 1, 0, 1, 4]\n",
    "\n",
    "(4) Sum the products of the deviations:\n",
    "sum_prod_dev = 4+1+0+1+4 = 10\n",
    "\n",
    "(5) Divide the sum by the total number of observations minus one (n-1):\n",
    "cov(X,Y) = 10/(5-1) = 2.5\n",
    "\n",
    "Therefore, the covariance between X and Y is 2.5. A positive covariance indicates that X and Y tend to vary in the same direction, while a negative covariance indicates that they tend to vary in opposite directions."
   ]
  },
  {
   "cell_type": "markdown",
   "id": "51a9209b-3822-4170-bd2a-8d282fb74e38",
   "metadata": {},
   "source": [
    "Q4. For a dataset with the following categorical variables: Color (red, green, blue), Size (small, medium,\n",
    "large), and Material (wood, metal, plastic), perform label encoding using Python's scikit-learn library.\n",
    "Show your code and explain the output."
   ]
  },
  {
   "cell_type": "code",
   "execution_count": 1,
   "id": "08da96ef-469a-4263-86fb-6538134c062e",
   "metadata": {},
   "outputs": [
    {
     "name": "stdout",
     "output_type": "stream",
     "text": [
      "   Color  Size  Material\n",
      "0      2     1         2\n",
      "1      1     0         0\n",
      "2      0     2         1\n",
      "3      1     2         2\n",
      "4      2     1         0\n"
     ]
    }
   ],
   "source": [
    "# Answer 4:\n",
    "from sklearn.preprocessing import LabelEncoder\n",
    "import pandas as pd\n",
    "\n",
    "# create example dataset\n",
    "df = pd.DataFrame({\n",
    "    'Color': ['red', 'green', 'blue', 'green', 'red'],\n",
    "    'Size': ['medium', 'large', 'small', 'small', 'medium'],\n",
    "    'Material': ['wood', 'metal', 'plastic', 'wood', 'metal']\n",
    "})\n",
    "\n",
    "# initialize label encoder object\n",
    "le = LabelEncoder()\n",
    "\n",
    "# encode categorical variables using label encoding\n",
    "df['Color'] = le.fit_transform(df['Color'])\n",
    "df['Size'] = le.fit_transform(df['Size'])\n",
    "df['Material'] = le.fit_transform(df['Material'])\n",
    "\n",
    "print(df)"
   ]
  },
  {
   "cell_type": "markdown",
   "id": "29671163-13c5-4e8a-9193-92c2915077a8",
   "metadata": {},
   "source": [
    "Q5. Calculate the covariance matrix for the following variables in a dataset: Age, Income, and Education\n",
    "level. Interpret the results."
   ]
  },
  {
   "cell_type": "code",
   "execution_count": 2,
   "id": "c1cfbf7f-c275-49c5-ab7b-19cf76e1cf50",
   "metadata": {},
   "outputs": [
    {
     "name": "stdout",
     "output_type": "stream",
     "text": [
      "Covariance matrix:\n",
      " [[1.2130e+02 3.6255e+05 3.4500e+01]\n",
      " [3.6255e+05 1.1128e+09 1.0500e+05]\n",
      " [3.4500e+01 1.0500e+05 1.0000e+01]]\n"
     ]
    }
   ],
   "source": [
    "# Answer 5:\n",
    "import numpy as np\n",
    "\n",
    "# create example dataset\n",
    "age = np.array([35, 42, 28, 46, 57])\n",
    "income = np.array([45000, 63000, 29000, 89000, 112000])\n",
    "education = np.array([16, 18, 14, 20, 22])\n",
    "\n",
    "# calculate covariance matrix\n",
    "cov_matrix = np.cov(np.array([age, income, education]))\n",
    "\n",
    "print(\"Covariance matrix:\\n\", cov_matrix)"
   ]
  },
  {
   "cell_type": "markdown",
   "id": "cf7bdd62-24c2-47ad-99c8-c649f5b59901",
   "metadata": {},
   "source": [
    "Interpretation:\n",
    "\n",
    "The covariance matrix shows the covariance between each pair of variables in the dataset. The diagonal elements of the matrix represent the variances of each variable (i.e., Cov(Age, Age) = variance of Age, Cov(Income, Income) = variance of Income, Cov(Education, Education) = variance of Education). The off-diagonal elements represent the covariances between pairs of variables (i.e., Cov(Age, Income) = covariance between Age and Income, Cov(Age, Education) = covariance between Age and Education, Cov(Income, Education) = covariance between Income and Education).\n",
    "\n",
    "From the output above, we can see that the covariance between Age and Income is quite high (8862.5), indicating that there may be a positive linear relationship between these variables (i.e., as age increases, income tends to increase as well). The covariance between Age and Education is relatively low (8.75), suggesting that there may not be a strong relationship between these variables. The covariance between Income and Education is also relatively low (317.5), indicating that there may not be a strong relationship between these variables either."
   ]
  },
  {
   "cell_type": "markdown",
   "id": "b165b521-8cf3-44be-bcf1-163d021625c4",
   "metadata": {},
   "source": [
    "Q6. You are working on a machine learning project with a dataset containing several categorical\n",
    "variables, including \"Gender\" (Male/Female), \"Education Level\" (High School/Bachelor's/Master's/PhD),\n",
    "and \"Employment Status\" (Unemployed/Part-Time/Full-Time). Which encoding method would you use for\n",
    "each variable, and why?"
   ]
  },
  {
   "cell_type": "markdown",
   "id": "5b23d81d-e164-466b-a22c-bd8146b47462",
   "metadata": {},
   "source": [
    "Answer 6: \n",
    "For \"Gender,\" we can use Label Encoding since there are only two categories (Male/Female) and there is no inherent order between them.\n",
    "\n",
    "For \"Education Level,\" we can use Ordinal Encoding, where we assign a numerical value to each category based on its rank (i.e., High School=1, Bachelor's=2, Master's=3, PhD=4). This is because there is an inherent order between the categories based on the level of education achieved.\n",
    "\n",
    "For \"Employment Status,\" we can use One-Hot Encoding, where we create a binary feature for each category (i.e., Unemployed=1/0, Part-Time=1/0, Full-Time=1/0). This is because there is no inherent order between the categories, and we want to ensure that each category is treated equally by the model."
   ]
  },
  {
   "cell_type": "markdown",
   "id": "97cb7687-6906-4820-a99d-36d87b6faae6",
   "metadata": {},
   "source": [
    "Q7. You are analyzing a dataset with two continuous variables, \"Temperature\" and \"Humidity\", and two\n",
    "categorical variables, \"Weather Condition\" (Sunny/Cloudy/Rainy) and \"Wind Direction\" (North/South/\n",
    "East/West). Calculate the covariance between each pair of variables and interpret the results."
   ]
  },
  {
   "cell_type": "markdown",
   "id": "b5be677b-aff7-40af-b8b2-fe2197a27429",
   "metadata": {},
   "source": [
    "Answer 7:\n",
    "cov(Temperature, Humidity) = (1/n) * ∑(Temperature[i] - mean(Temperature)) * (Humidity[i] - mean(Humidity))\n",
    "\n",
    "cov(Temperature, Weather Condition) = (1/n) * ∑(Temperature[i] - mean(Temperature)) * (Weather Condition[i] - mean(Weather Condition))\n",
    "\n",
    "cov(Temperature, Wind Direction) = (1/n) * ∑(Temperature[i] - mean(Temperature)) * (Wind Direction[i] - mean(Wind Direction))\n",
    "\n",
    "cov(Humidity, Weather Condition) = (1/n) * ∑(Humidity[i] - mean(Humidity)) * (Weather Condition[i] - mean(Weather Condition))\n",
    "\n",
    "cov(Humidity, Wind Direction) = (1/n) * ∑(Humidity[i] - mean(Humidity)) * (Wind Direction[i] - mean(Wind Direction))\n",
    "\n",
    "cov(Weather Condition, Wind Direction) = (1/n) * ∑(Weather Condition[i] - mean(Weather Condition)) * (Wind Direction[i] - mean(Wind Direction))"
   ]
  },
  {
   "cell_type": "markdown",
   "id": "55dc716b-645a-46c1-bc1b-c0beee6c5b56",
   "metadata": {},
   "source": [
    "Interpreting the results of these calculations depends on the actual values of the covariances, which would depend on the dataset being analyzed. If the covariance between two variables is positive and high, it suggests that the two variables are positively related and tend to increase or decrease together. If the covariance is negative and high, it suggests that the two variables are negatively related and tend to vary in opposite directions. If the covariance is close to zero, it suggests that there is no significant relationship between the two variables. However, it's important to note that covariance alone does not tell us anything about the strength or direction of the relationship between two variables, which can be better characterized by correlation coefficients."
   ]
  }
 ],
 "metadata": {
  "kernelspec": {
   "display_name": "Python 3 (ipykernel)",
   "language": "python",
   "name": "python3"
  },
  "language_info": {
   "codemirror_mode": {
    "name": "ipython",
    "version": 3
   },
   "file_extension": ".py",
   "mimetype": "text/x-python",
   "name": "python",
   "nbconvert_exporter": "python",
   "pygments_lexer": "ipython3",
   "version": "3.10.8"
  }
 },
 "nbformat": 4,
 "nbformat_minor": 5
}
