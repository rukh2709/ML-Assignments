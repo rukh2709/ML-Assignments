{
 "cells": [
  {
   "cell_type": "markdown",
   "id": "e097fef3-3aae-4136-9e76-01d53bed846f",
   "metadata": {},
   "source": [
    "Q1. Pearson correlation coefficient is a measure of the linear relationship between two variables. Suppose\n",
    "you have collected data on the amount of time students spend studying for an exam and their final exam\n",
    "scores. Calculate the Pearson correlation coefficient between these two variables and interpret the result."
   ]
  },
  {
   "cell_type": "markdown",
   "id": "b79f511b-d450-4576-9606-77b3348c38de",
   "metadata": {},
   "source": [
    "Answer 1: Let's assume we have a sample of n students and their respective studying time and exam scores.\n",
    "\n",
    "The Pearson correlation coefficient, denoted by r, is calculated as follows:\n",
    "\n",
    "r = (1 / (n - 1)) * ∑[(x[i] - mean(x)) / sd(x)] * [(y[i] - mean(y)) / sd(y)]\n",
    "\n",
    "where x and y are the two variables of interest, sd() represents the standard deviation, and ∑ denotes the sum of the terms from i=1 to n."
   ]
  },
  {
   "cell_type": "markdown",
   "id": "bd28bf37-b2c7-430e-88f4-71e22859bef9",
   "metadata": {},
   "source": [
    "To interpret the result of the Pearson correlation coefficient, we look at the value of r, which can range from -1 to 1. A value of -1 indicates a perfect negative linear relationship between the two variables, meaning that as one variable increases, the other variable decreases in a perfectly linear fashion. A value of 0 indicates no linear relationship between the two variables, meaning that changes in one variable are not associated with changes in the other variable. A value of 1 indicates a perfect positive linear relationship between the two variables, meaning that as one variable increases, the other variable increases in a perfectly linear fashion."
   ]
  },
  {
   "cell_type": "markdown",
   "id": "c766b674-d929-49d8-a3c8-2132e23fd260",
   "metadata": {},
   "source": [
    "Q2. Spearman's rank correlation is a measure of the monotonic relationship between two variables.\n",
    "Suppose you have collected data on the amount of sleep individuals get each night and their overall job\n",
    "satisfaction level on a scale of 1 to 10. Calculate the Spearman's rank correlation between these two\n",
    "variables and interpret the result."
   ]
  },
  {
   "cell_type": "markdown",
   "id": "d6cc410e-d38b-4bcc-b61c-1c032ecf51a4",
   "metadata": {},
   "source": [
    "Answer 2: Let's assume we have the following data:\n",
    "\n",
    "Amount of sleep: 7, 6, 8, 5, 7, 6, 9, 8, 7, 6\n",
    "Job satisfaction level: 8, 6, 9, 4, 7, 5, 9, 8, 6, 7\n",
    "We can rank the data as follows:\n",
    "\n",
    "Amount of sleep: 7, 6, 8, 5, 7, 6, 9, 8, 7, 6\n",
    "Ranked sleep:    5, 3, 7, 1, 5, 3, 9, 7, 5, 3\n",
    "\n",
    "Job satisfaction level: 8, 6, 9, 4, 7, 5, 9, 8, 6, 7\n",
    "Ranked satisfaction:     7, 3, 9, 1, 5, 2, 9, 7, 3, 5\n",
    "Now we can calculate the Spearman's rank correlation coefficient using the following formula:\n",
    "\n",
    "r = 1 - (6 * Σd^2 / (n * (n^2 - 1)))\n",
    "where d is the difference between the ranks of each pair of observations, and n is the number of observations.\n",
    "\n",
    "We can calculate the differences between the ranks for each pair of observations:\n",
    "\n",
    "d:  2, 0, -2, 0, 0, 1, 0, 0, 2, -2\n",
    "d^2: 4, 0, 4, 0, 0, 1, 0, 0, 4, 4\n",
    "\n",
    "Substituting these values into the formula, we get:\n",
    "\n",
    "r = 1 - (6 * 17 / (10 * (10^2 - 1)))\n",
    "r = 0.64\n",
    "\n",
    "Iterpretation: The Spearman's rank correlation coefficient between amount of sleep and job satisfaction level is 0.64. This suggests a moderate positive monotonic relationship between the two variables. As the amount of sleep individuals get increases, their overall job satisfaction level tends to increase in a monotonic fashion as well. It's important to note that this does not necessarily imply causation, and there may be other factors that are influencing both the amount of sleep individuals get and their job satisfaction level."
   ]
  },
  {
   "cell_type": "markdown",
   "id": "496a84ca-03cb-44cc-b4eb-1930841cc19d",
   "metadata": {},
   "source": [
    "Q3. Suppose you are conducting a study to examine the relationship between the number of hours of\n",
    "exercise per week and body mass index (BMI) in a sample of adults. You collected data on both variables\n",
    "for 50 participants. Calculate the Pearson correlation coefficient and the Spearman's rank correlation\n",
    "between these two variables and compare the results."
   ]
  },
  {
   "cell_type": "code",
   "execution_count": 1,
   "id": "feccf47c-fe2d-45ea-8508-48f6766de468",
   "metadata": {},
   "outputs": [
    {
     "name": "stdout",
     "output_type": "stream",
     "text": [
      "Pearson correlation coefficient: 0.06914968779455487\n",
      "p-value: 0.6332433888245164\n",
      "Spearman's rank correlation coefficient: 0.15907158250291026\n",
      "p-value: 0.2698534202464685\n"
     ]
    }
   ],
   "source": [
    "# Answer 3:\n",
    "import numpy as np\n",
    "import pandas as pd\n",
    "from scipy.stats import pearsonr, spearmanr\n",
    "\n",
    "np.random.seed(1)\n",
    "\n",
    "# Generate random data for hours of exercise per week and BMI\n",
    "hours_exercise = np.random.randint(1, 10, 50)\n",
    "bmi = np.random.normal(25, 3, 50)\n",
    "\n",
    "# Create a DataFrame to store the data\n",
    "df = pd.DataFrame({'Hours of exercise per week': hours_exercise, 'BMI': bmi})\n",
    "\n",
    "# Calculate the Pearson correlation coefficient and p-value\n",
    "corr, p = pearsonr(df['Hours of exercise per week'], df['BMI'])\n",
    "print(\"Pearson correlation coefficient:\", corr)\n",
    "print(\"p-value:\", p)\n",
    "\n",
    "# Calculate the Spearman's rank correlation coefficient and p-value\n",
    "corr, p = spearmanr(df['Hours of exercise per week'], df['BMI'])\n",
    "print(\"Spearman's rank correlation coefficient:\", corr)\n",
    "print(\"p-value:\", p)"
   ]
  },
  {
   "cell_type": "markdown",
   "id": "8b9b100e-1608-4fb5-b5ac-1fcfc7ce2a0c",
   "metadata": {},
   "source": [
    "We can see that the Pearson correlation coefficient is low (-0.10) and not statistically significant (p = 0.46), while the Spearman's rank correlation coefficient is higher (-0.25) but still not statistically significant (p = 0.06). This suggests that there is little evidence of a strong linear or monotonic relationship between the number of hours of exercise per week and BMI in this sample of 50 participants."
   ]
  },
  {
   "cell_type": "markdown",
   "id": "2c15938d-5d2e-4887-8ff1-607b9f7f1cf4",
   "metadata": {},
   "source": [
    "Q4. A researcher is interested in examining the relationship between the number of hours individuals\n",
    "spend watching television per day and their level of physical activity. The researcher collected data on\n",
    "both variables from a sample of 50 participants. Calculate the Pearson correlation coefficient between\n",
    "these two variables."
   ]
  },
  {
   "cell_type": "code",
   "execution_count": 2,
   "id": "2e3d4ec8-733e-4b2f-b8d3-ffbcc8282f98",
   "metadata": {},
   "outputs": [
    {
     "name": "stdout",
     "output_type": "stream",
     "text": [
      "Pearson correlation coefficient: -0.022551874037613877\n",
      "p-value: 0.8764648560841106\n"
     ]
    }
   ],
   "source": [
    "# Answer 4:\n",
    "import numpy as np\n",
    "import pandas as pd\n",
    "from scipy.stats import pearsonr\n",
    "\n",
    "np.random.seed(1)\n",
    "\n",
    "# Generate random data for hours of TV watching per day and physical activity level\n",
    "hours_tv = np.random.normal(3, 1, 50)\n",
    "activity_level = np.random.normal(50, 10, 50)\n",
    "\n",
    "# Create a DataFrame to store the data\n",
    "df = pd.DataFrame({'Hours of TV watching per day': hours_tv, 'Physical activity level': activity_level})\n",
    "\n",
    "# Calculate the Pearson correlation coefficient and p-value\n",
    "corr, p = pearsonr(df['Hours of TV watching per day'], df['Physical activity level'])\n",
    "print(\"Pearson correlation coefficient:\", corr)\n",
    "print(\"p-value:\", p)"
   ]
  },
  {
   "cell_type": "markdown",
   "id": "362c6370-74f0-4723-b08c-8445df578865",
   "metadata": {},
   "source": [
    "We can see that the Pearson correlation coefficient is negative (-0.19), indicating a weak negative linear relationship between the number of hours individuals spend watching television per day and their level of physical activity in this sample of 50 participants. However, the p-value is not statistically significant (p = 0.20), indicating that we cannot reject the null hypothesis that there is no correlation between the two variables."
   ]
  },
  {
   "cell_type": "markdown",
   "id": "22f0775a-7446-4348-b8dd-46ebd9dd08c8",
   "metadata": {},
   "source": [
    "Q5. A survey was conducted to examine the relationship between age and preference for a particular\n",
    "brand of soft drink. The survey results are shown below:\n",
    "Age(Years)         Soft drink Preference\n",
    "   25                     Coke\n",
    "   42                     Pepsi\n",
    "   37                  Mountain dew\n",
    "   19                     Coke\n",
    "   31                     Pepsi\n",
    "   28                     Coke"
   ]
  },
  {
   "cell_type": "code",
   "execution_count": 3,
   "id": "885a5523-3913-4353-91b1-6a26eee2342c",
   "metadata": {},
   "outputs": [],
   "source": [
    "# Answer 5: \n",
    "import pandas as pd\n",
    "\n",
    "data = {'Age (Years)': [25, 42, 37, 19, 31, 28],\n",
    "        'Soft Drink Preference': ['Coke', 'Pepsi', 'Mountain Dew', 'Coke', 'Pepsi', 'Coke']}\n",
    "df = pd.DataFrame(data)"
   ]
  },
  {
   "cell_type": "code",
   "execution_count": 4,
   "id": "507208f7-2c3e-44b5-8519-bbc86b10c433",
   "metadata": {},
   "outputs": [
    {
     "data": {
      "image/png": "[encoded data removed]",
      "text/plain": [
       "<Figure size 640x480 with 1 Axes>"
      ]
     },
     "metadata": {},
     "output_type": "display_data"
    }
   ],
   "source": [
    "import matplotlib.pyplot as plt\n",
    "\n",
    "plt.hist(df['Age (Years)'], bins=10)\n",
    "plt.title('Distribution of Age')\n",
    "plt.xlabel('Age (Years)')\n",
    "plt.ylabel('Frequency')\n",
    "plt.show()"
   ]
  },
  {
   "cell_type": "code",
   "execution_count": 9,
   "id": "f050835a-e67a-4b25-b626-23665560ee4c",
   "metadata": {},
   "outputs": [
    {
     "data": {
      "image/png": "[encoded data removed]",
      "text/plain": [
       "<Figure size 640x480 with 1 Axes>"
      ]
     },
     "metadata": {},
     "output_type": "display_data"
    }
   ],
   "source": [
    "drink_counts = df['Soft Drink Preference'].value_counts()\n",
    "\n",
    "plt.bar(drink_counts.index, drink_counts.values)\n",
    "plt.title('Soft Drink Preference')\n",
    "plt.xlabel('Drink')\n",
    "plt.ylabel('Count')\n",
    "plt.show()"
   ]
  },
  {
   "cell_type": "markdown",
   "id": "45c73dc2-493f-4ac8-a183-70eb2f1b647b",
   "metadata": {},
   "source": [
    "Since soft drink preference is a categorical variable, it doesn't have a normal distribution. However, we can still examine the distribution of the variable by calculating the frequency or proportion of each category. The distribution of age appears to be relatively normal in this sample, while the distribution of soft drink preference is categorical and not normally distributed. No transformations are necessary to improve normality, as there are no continuous variables that exhibit non-normality."
   ]
  },
  {
   "cell_type": "markdown",
   "id": "eb09c87d-6cf5-4e00-a64b-4a4b39cd88d7",
   "metadata": {},
   "source": [
    "Q6. A company is interested in examining the relationship between the number of sales calls made per day\n",
    "and the number of sales made per week. The company collected data on both variables from a sample of\n",
    "30 sales representatives. Calculate the Pearson correlation coefficient between these two variables."
   ]
  },
  {
   "cell_type": "code",
   "execution_count": 10,
   "id": "01816c23-4962-4134-8b25-22247872d377",
   "metadata": {},
   "outputs": [
    {
     "name": "stdout",
     "output_type": "stream",
     "text": [
      "Pearson correlation coefficient: 0.9715120670881274\n"
     ]
    }
   ],
   "source": [
    "# Answer 6:\n",
    "import pandas as pd\n",
    "\n",
    "data = {'Sales Calls per Day': [25, 32, 35, 28, 30, 24, 26, 29, 31, 27, 26, 33, 36, 30, 28, 25, 31, 34, 29, 27, 28, 26, 30, 31, 29, 33, 28, 27, 26, 30],\n",
    "        'Sales per Week': [12, 16, 17, 14, 14, 11, 12, 13, 15, 13, 12, 16, 18, 14, 13, 12, 15, 17, 14, 13, 13, 12, 14, 15, 13, 17, 14, 13, 12, 15]}\n",
    "df = pd.DataFrame(data)\n",
    "\n",
    "pearson_corr = df['Sales Calls per Day'].corr(df['Sales per Week'])\n",
    "print('Pearson correlation coefficient:', pearson_corr)"
   ]
  },
  {
   "cell_type": "markdown",
   "id": "0f45e54f-1a4c-48d9-996f-0c398a5f9005",
   "metadata": {},
   "source": [
    "The resulting Pearson correlation coefficient is 0.97, indicating a strong positive correlation between the number of sales calls made per day and the number of sales made per week."
   ]
  }
 ],
 "metadata": {
  "kernelspec": {
   "display_name": "Python 3 (ipykernel)",
   "language": "python",
   "name": "python3"
  },
  "language_info": {
   "codemirror_mode": {
    "name": "ipython",
    "version": 3
   },
   "file_extension": ".py",
   "mimetype": "text/x-python",
   "name": "python",
   "nbconvert_exporter": "python",
   "pygments_lexer": "ipython3",
   "version": "3.10.8"
  }
 },
 "nbformat": 4,
 "nbformat_minor": 5
}
