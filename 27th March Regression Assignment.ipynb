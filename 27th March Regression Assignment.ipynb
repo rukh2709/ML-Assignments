{
 "cells": [
  {
   "cell_type": "markdown",
   "id": "2c282919-9c16-4bd1-8b2d-cec88053398f",
   "metadata": {},
   "source": [
    "Q1. Explain the concept of R-squared in linear regression models. How is it calculated, and what does it\n",
    "represent?"
   ]
  },
  {
   "cell_type": "markdown",
   "id": "53155e60-ad91-4ccd-b2ce-8ee9e63a1d99",
   "metadata": {},
   "source": [
    "Answer 1: R-Squared (R² or the coefficient of determination) is a statistical measure in a regression model that determines the proportion of variance in the dependent variable that can be explained by the independent variable. It provides an indication of how well the linear regression model fits the data, and can be used to compare the performance of different regression models.\n",
    "\n",
    "R2 = 1 − sum squared regression (SSR)/total sum of squares(SST)\n",
    "The sum squared regression is the sum of the residuals squared, and the total sum of squares is the sum of the distance the data is away from the mean all squared.\n",
    "\n",
    "R-squared ranges from 0 to 1, where 0 indicates that the model explains none of the variation in the dependent variable, and 1 indicates that the model explains all of the variation in the dependent variable. However, in practice, R-squared values between 0.2 and 0.8 are more typical."
   ]
  },
  {
   "cell_type": "markdown",
   "id": "656dd812-e97d-4cb2-b200-27fbc8ecfb0b",
   "metadata": {},
   "source": [
    "Q2. Define adjusted R-squared and explain how it differs from the regular R-squared."
   ]
  },
  {
   "cell_type": "markdown",
   "id": "c72c7817-27cd-4f05-a56b-d21147040fc8",
   "metadata": {},
   "source": [
    "Answer 2: Adjusted R-squared is a modified version of R-squared that has been adjusted for the number of predictors in the model. The adjusted R-squared increases when the new term improves the model more than would be expected by chance. It decreases when a predictor improves the model by less than expected.\n",
    "\n",
    "The difference between R squared and adjusted R squared value is that R squared value assumes that all the independent variables considered affect the result of the model, whereas the adjusted R squared value considers only those independent variables which actually have an effect on the performance of the model."
   ]
  },
  {
   "cell_type": "markdown",
   "id": "ff4217ec-e6fb-4089-8903-0c84aa8b15bc",
   "metadata": {},
   "source": [
    "Q3. When is it more appropriate to use adjusted R-squared?"
   ]
  },
  {
   "cell_type": "markdown",
   "id": "e52ff10b-b3fb-4a43-9f0c-809eb8b2e72f",
   "metadata": {},
   "source": [
    "Answer 3: It is better to use Adjusted R-squared when there are multiple variables in the regression model."
   ]
  },
  {
   "cell_type": "markdown",
   "id": "c9b966b5-05a3-4dc2-871c-92325b415dd0",
   "metadata": {},
   "source": [
    "Q4. What are RMSE, MSE, and MAE in the context of regression analysis? How are these metrics\n",
    "calculated, and what do they represent?"
   ]
  },
  {
   "cell_type": "markdown",
   "id": "61fef8b5-8799-4ce4-b900-55bf2adb074f",
   "metadata": {},
   "source": [
    "Answer 4: MSE (Mean Squared Error) is the average of the squared differences between the predicted values and the actual values. It is calculated by taking the sum of the squared differences between the predicted and actual values and dividing by the number of observations in the dataset. The formula for MSE is:\n",
    "\n",
    "MSE = 1/n * Σ(yi - ŷi)^2\n",
    "\n",
    "where yi is the actual value, ŷi is the predicted value, and n is the number of observations.\n",
    "\n",
    "MAE (Mean Absolute Error) is the average of the absolute differences between the predicted values and the actual values. It is calculated by taking the sum of the absolute differences between the predicted and actual values and dividing by the number of observations in the dataset. The formula for MAE is:\n",
    "\n",
    "MAE = 1/n * Σ|yi - ŷi|\n",
    "\n",
    "where yi is the actual value, ŷi is the predicted value, and n is the number of observations.\n",
    "\n",
    "RMSE (Root Mean Squared Error) is the square root of the mean squared error. It is calculated by taking the square root of the sum of the squared differences between the predicted and actual values, divided by the number of observations in the dataset. The formula for RMSE is:\n",
    "\n",
    "RMSE = sqrt(1/n * Σ(yi - ŷi)^2)\n",
    "\n",
    "where yi is the actual value, ŷi is the predicted value, and n is the number of observations.\n",
    "\n",
    "These metrics represent the difference between the predicted values and the actual values in a regression model. Lower values of MSE, MAE, and RMSE indicate better performance of the model, with RMSE being the most commonly used metric as it represents the error in the same units as the dependent variable."
   ]
  },
  {
   "cell_type": "markdown",
   "id": "9deaaf93-2ae5-4e69-92a8-c26942dae99f",
   "metadata": {},
   "source": [
    "Q5. Discuss the advantages and disadvantages of using RMSE, MSE, and MAE as evaluation metrics in\n",
    "regression analysis."
   ]
  },
  {
   "cell_type": "markdown",
   "id": "b218866b-f067-40b6-8078-8f76edc6baf2",
   "metadata": {},
   "source": [
    "Answer 5: \n",
    "Advantages of RMSE:\n",
    "\n",
    "It gives a higher weight to larger errors compared to smaller errors, which makes it more sensitive to outliers in the data.\n",
    "It provides a measure of the variance of the errors, which can be useful for understanding the spread of the errors.\n",
    "\n",
    "Disadvantages of RMSE:\n",
    "\n",
    "It is affected by the scale of the dependent variable, which means that the values of RMSE will be different if the units of the dependent variable are changed.\n",
    "It can be sensitive to extreme outliers, as these can inflate the value of RMSE.\n",
    "\n",
    "Advantages of MSE:\n",
    "\n",
    "It is always non-negative and provides a measure of the overall accuracy of the model.\n",
    "It is easy to compute and understand.\n",
    "\n",
    "Disadvantages of MSE:\n",
    "\n",
    "It is affected by the scale of the dependent variable, which means that the values of MSE will be different if the units of the dependent variable are changed.\n",
    "It does not provide any information about the direction of the errors.\n",
    "\n",
    "Advantages of MAE:\n",
    "\n",
    "It is not affected by outliers in the data, as it takes the absolute difference between the predicted and actual values.\n",
    "It provides a measure of the overall accuracy of the model.\n",
    "\n",
    "Disadvantages of MAE:\n",
    "\n",
    "It does not provide any information about the direction of the errors.\n",
    "It does not give a higher weight to larger errors compared to smaller errors."
   ]
  },
  {
   "cell_type": "markdown",
   "id": "df5812ca-3def-405a-b547-64b57946e9d0",
   "metadata": {},
   "source": [
    "Q6. Explain the concept of Lasso regularization. How does it differ from Ridge regularization, and when is\n",
    "it more appropriate to use?"
   ]
  },
  {
   "cell_type": "markdown",
   "id": "fbb73203-0140-493a-813b-76f9980bb1e4",
   "metadata": {},
   "source": [
    "Answer 6: Lasso regularization is a technique used in linear regression to prevent overfitting by adding a penalty term to the regression equation that shrinks the regression coefficients towards zero. It is a form of regularization that can be used when the number of predictor variables in the model is high relative to the number of observations, or when there is a high degree of multicollinearity among the predictor variables.\n",
    "\n",
    "asso regularization differs from Ridge regularization in that it uses the absolute value of the regression coefficients in the penalty term, while Ridge regularization uses the square of the regression coefficients. As a result, Lasso regularization can lead to sparse models with some of the regression coefficients exactly equal to zero, while Ridge regularization will only shrink the coefficients towards zero but will not set any of them to zero.\n",
    "\n",
    "If we have a large number of features and suspect that many of them are not relevant, Lasso regularization might be more appropriate as it can identify and eliminate those features. On the other hand, if we have a smaller number of features and suspect that all of them might be relevant, Ridge regularization might be more appropriate as it will tend to shrink all the coefficients towards zero without completely eliminating any of them.\n",
    "\n",
    "Another factor to consider is the sparsity of the data. Lasso regularization is particularly effective when the data is sparse, meaning that most of the coefficients are zero or close to zero. In such cases, Ridge regularization may not be able to effectively reduce the number of non-zero coefficients."
   ]
  },
  {
   "cell_type": "markdown",
   "id": "7e2a5cbf-a722-4eb3-80d6-6036cf615fbb",
   "metadata": {},
   "source": [
    "Q7. How do regularized linear models help to prevent overfitting in machine learning? Provide an\n",
    "example to illustrate."
   ]
  },
  {
   "cell_type": "markdown",
   "id": "09308bb1-042e-4a1d-b176-41597baccad3",
   "metadata": {},
   "source": [
    "Answer 7: Regularized linear models add a penalty term to the objective function that the model is trying to optimize. This penalty term discourages the model from fitting the training data too closely, which can lead to overfitting. The penalty term typically depends on the magnitude of the model coefficients, with larger coefficients incurring a larger penalty. By adjusting the strength of the penalty term, the model can be made more or less sensitive to overfitting."
   ]
  },
  {
   "cell_type": "code",
   "execution_count": 1,
   "id": "25a422d9-4ee9-453a-9f4a-1bad7ae23bf0",
   "metadata": {},
   "outputs": [
    {
     "data": {
      "image/png": "[encoded data removed]",
      "text/plain": [
       "<Figure size 640x480 with 1 Axes>"
      ]
     },
     "metadata": {},
     "output_type": "display_data"
    }
   ],
   "source": [
    "# Example: Suppose we have a dataset with one input feature and one output variable, and we want to fit a linear model to predict the output variable. We can use linear regression to fit a line to the data:\n",
    "import numpy as np\n",
    "from sklearn.linear_model import LinearRegression\n",
    "\n",
    "# Generate some data\n",
    "np.random.seed(0)\n",
    "X = np.random.rand(100, 1)\n",
    "y = 2 * X.squeeze() + np.random.randn(100)\n",
    "\n",
    "# Fit a linear regression model\n",
    "lin_reg = LinearRegression()\n",
    "lin_reg.fit(X, y)\n",
    "\n",
    "# Plot the data and the linear regression line\n",
    "import matplotlib.pyplot as plt\n",
    "plt.scatter(X, y)\n",
    "plt.plot(X, lin_reg.predict(X), color='r')\n",
    "plt.show()"
   ]
  },
  {
   "cell_type": "markdown",
   "id": "e805fa63-b4a8-49c5-9b90-7701465cba5a",
   "metadata": {},
   "source": [
    "As we can see from the plot, the linear regression line fits the data reasonably well. However, the line might be too complex and could be overfitting the data, especially if we have many input features or a large number of data points. To prevent overfitting, we can use regularized linear models such as Ridge or Lasso regression."
   ]
  },
  {
   "cell_type": "code",
   "execution_count": 6,
   "id": "cd3db1be-bf84-4ff1-af22-f1f9986cd57e",
   "metadata": {},
   "outputs": [
    {
     "data": {
      "image/png": "[encoded data removed]",
      "text/plain": [
       "<Figure size 640x480 with 1 Axes>"
      ]
     },
     "metadata": {},
     "output_type": "display_data"
    }
   ],
   "source": [
    "from sklearn.linear_model import Ridge\n",
    "\n",
    "# Fit a Ridge regression model with alpha=1.0\n",
    "ridge_reg = Ridge(alpha=1)\n",
    "ridge_reg.fit(X, y)\n",
    "\n",
    "# Plot the data and the Ridge regression line\n",
    "plt.scatter(X, y)\n",
    "plt.plot(X, ridge_reg.predict(X), color='r')\n",
    "plt.show()"
   ]
  },
  {
   "cell_type": "markdown",
   "id": "be581ad4-d16e-4ee6-bcd8-a4871da7b721",
   "metadata": {},
   "source": [
    "As we can see from the plot, the Ridge regression line is smoother and less complex than the linear regression line, which suggests that it might be less prone to overfitting. The strength of the penalty term in Ridge regression is controlled by the alpha parameter. A larger alpha will result in a stronger penalty and a simpler model, while a smaller alpha will result in a weaker penalty and a more complex model."
   ]
  },
  {
   "cell_type": "markdown",
   "id": "84dded03-257b-4e0f-9b44-e6bf70059985",
   "metadata": {},
   "source": [
    "Q8. Discuss the limitations of regularized linear models and explain why they may not always be the best\n",
    "choice for regression analysis."
   ]
  },
  {
   "cell_type": "markdown",
   "id": "0bd22436-12da-460f-8d7b-d47a01c67234",
   "metadata": {},
   "source": [
    "Answer 8: While regularized linear models like Ridge and Lasso regression have several advantages for regression analysis, they also have some limitations that can make them less suitable for certain problems.\n",
    "\n",
    "Limited interpretability: Regularized linear models shrink the coefficients towards zero, which can make it difficult to interpret the importance of each feature. \n",
    "\n",
    "Limited flexibility: Regularized linear models are limited to linear relationships between the input features and the output variable. \n",
    "\n",
    "Sensitivity to outliers: Regularized linear models are sensitive to outliers in the data. A single outlier can have a large effect on the model coefficients and lead to poor performance. While techniques like robust regression can help to mitigate this issue, they may not always be sufficient.\n",
    "\n",
    "Parameter tuning: Regularized linear models have hyperparameters that need to be tuned, such as the strength of the penalty term (alpha). Choosing the optimal hyperparameters can be time-consuming and may require cross-validation or other techniques.\n",
    "\n",
    "Large datasets: Regularized linear models can be computationally expensive to train on large datasets, especially if the number of features is high. In some cases, more efficient algorithms like stochastic gradient descent may be more suitable."
   ]
  },
  {
   "cell_type": "markdown",
   "id": "3a709a0a-0ae5-49ec-b164-2c5811884bf4",
   "metadata": {},
   "source": [
    "Q9. You are comparing the performance of two regression models using different evaluation metrics.\n",
    "Model A has an RMSE of 10, while Model B has an MAE of 8. Which model would you choose as the better\n",
    "performer, and why? Are there any limitations to your choice of metric?"
   ]
  },
  {
   "cell_type": "markdown",
   "id": "e07ace22-bde6-4675-b892-2f61201f0c47",
   "metadata": {},
   "source": [
    "Answer 9: RMSE (root mean square error) measures the square root of the average squared difference between the predicted and actual values. It penalizes large errors more than small errors due to the squaring operation. In this case, Model A has an RMSE of 10, which means that, on average, the predicted values are off by 10 units from the actual values.\n",
    "\n",
    "MAE (mean absolute error), on the other hand, measures the average absolute difference between the predicted and actual values. It treats all errors equally without penalizing large errors more than small errors. In this case, Model B has an MAE of 8, which means that, on average, the predicted values are off by 8 units from the actual values.\n",
    "\n",
    "Therefore, based on the given evaluation metrics, we would choose Model B as the better performer because it has a lower MAE value, which indicates that its predictions are, on average, closer to the actual values than Model A's predictions.\n",
    "\n",
    "RMSE is sensitive to outliers because it squares the error values, which can exaggerate the impact of large errors on the overall evaluation. On the other hand, MAE can be less sensitive to outliers, but it doesn't provide any information on the magnitude of the errors, making it difficult to compare models with different ranges of target variables."
   ]
  },
  {
   "cell_type": "markdown",
   "id": "f6e39c3e-4150-4483-beb9-381b833f0ecb",
   "metadata": {},
   "source": [
    "Q10. You are comparing the performance of two regularized linear models using different types of\n",
    "regularization. Model A uses Ridge regularization with a regularization parameter of 0.1, while Model B\n",
    "uses Lasso regularization with a regularization parameter of 0.5. Which model would you choose as the\n",
    "better performer, and why? Are there any trade-offs or limitations to your choice of regularization\n",
    "method?"
   ]
  },
  {
   "cell_type": "markdown",
   "id": "04e79d00-456d-4b09-ae1e-5c5ad9a4657b",
   "metadata": {},
   "source": [
    "Answer 10: In terms of the given regularization parameters, Model A has a regularization parameter of 0.1, which means that the impact of the regularization term is relatively low, while Model B has a higher regularization parameter of 0.5, which means that the impact of the regularization term is relatively high.\n",
    "\n",
    "Therefore, based on the given information, it's not possible to determine which model is the better performer. The choice between Ridge and Lasso regularization and the value of the regularization parameter depend on the specific data and analysis objectives.\n",
    "\n",
    "One limitation is that regularization can sometimes lead to underfitting, where the model is too simple and not able to capture the complexity of the data. This can happen if the regularization parameter is too large or if the data is too noisy.\n",
    "\n",
    "Another limitation is that different regularization methods may work better or worse for different types of data and models. For example, L1 regularization is known to be effective for sparse feature selection, while L2 regularization is better for preventing weights from becoming too large.\n",
    "\n",
    "Finally, regularization methods can also be computationally expensive, especially for large datasets or complex models. This can slow down the training process and make it more difficult to find the optimal values for the regularization parameter."
   ]
  }
 ],
 "metadata": {
  "kernelspec": {
   "display_name": "Python 3 (ipykernel)",
   "language": "python",
   "name": "python3"
  },
  "language_info": {
   "codemirror_mode": {
    "name": "ipython",
    "version": 3
   },
   "file_extension": ".py",
   "mimetype": "text/x-python",
   "name": "python",
   "nbconvert_exporter": "python",
   "pygments_lexer": "ipython3",
   "version": "3.10.8"
  }
 },
 "nbformat": 4,
 "nbformat_minor": 5
}
