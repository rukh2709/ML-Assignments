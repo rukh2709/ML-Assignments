{
 "cells": [
  {
   "cell_type": "markdown",
   "id": "eae28c99-0b3e-4b95-8302-ef5f98cd7497",
   "metadata": {},
   "source": [
    "Q1: What are missing values in a dataset? Why is it essential to handle missing values? Name some\n",
    "algorithms that are not affected by missing values."
   ]
  },
  {
   "cell_type": "markdown",
   "id": "967cc60f-98bc-4010-9e51-51b10dd83b4d",
   "metadata": {},
   "source": [
    "Answer 1: Missing values in a dataset refer to the absence of a particular value for a particular observation or instance in a dataset. Missing values can occur due to a variety of reasons, such as data entry errors, system errors, data loss during transfer, or simply because the data is not available. Missing values can be represented in different ways, such as NaN (Not a Number), NA (Not Available), or simply an empty cell.\n",
    "\n",
    "Handling missing values is essential because most machine learning algorithms cannot handle missing values directly, and will either throw an error or provide inaccurate results if missing values are present in the dataset. Missing values can also introduce bias in the data and affect the accuracy of the model. Therefore, it is important to handle missing values before training a machine learning model.\n",
    "\n",
    "Following are some machine learning algorithms that are not affected by missing values:\n",
    "\n",
    "1. Decision Trees\n",
    "2. Naive Bayes\n",
    "3. K-Nearest Neighbors (KNN)\n",
    "4. Support Vector Machines (SVM)"
   ]
  },
  {
   "cell_type": "markdown",
   "id": "9ee1f790-6acd-4cdf-95c3-3d76d07e3886",
   "metadata": {},
   "source": [
    "Q2: List down techniques used to handle missing data. Give an example of each with python code."
   ]
  },
  {
   "cell_type": "markdown",
   "id": "7a30beaa-9caf-4cd9-8c96-e7f1a8f1ceba",
   "metadata": {},
   "source": [
    "Answer 2:\n",
    "(A) Deletion: This technique involves removing the missing values from the dataset. It can be done in two ways:\n",
    "1. Listwise deletion: remove all rows with at least one missing value.\n",
    "2. Pairwise deletion: ignore missing values only for specific analysis (e.g., correlation, covariance)."
   ]
  },
  {
   "cell_type": "code",
   "execution_count": 1,
   "id": "f30d066c-def6-434e-8c85-dda0e5d8f591",
   "metadata": {},
   "outputs": [
    {
     "name": "stdout",
     "output_type": "stream",
     "text": [
      "   Name   Age   Salary\n",
      "0  John  25.0  50000.0\n",
      "3  Mary  41.0  90000.0\n"
     ]
    }
   ],
   "source": [
    "# An example of deletion \n",
    "import pandas as pd\n",
    "\n",
    "# create a sample dataset with missing values\n",
    "data = {'Name': ['John', 'Jane', 'Bob', 'Mary'],\n",
    "        'Age': [25, 32, None, 41],\n",
    "        'Salary': [50000, None, 75000, 90000]}\n",
    "df = pd.DataFrame(data)\n",
    "\n",
    "# remove missing values using pairwise deletion\n",
    "df_pairwise = df.dropna()\n",
    "\n",
    "print(df_pairwise)"
   ]
  },
  {
   "cell_type": "markdown",
   "id": "973dc430-6f70-43eb-bf4c-29fcba60c14a",
   "metadata": {},
   "source": [
    "(B) Imputation: This technique involves replacing the missing values with estimated values based on the available data. There are various methods for imputation:\n",
    "1. Mean/Median imputation: replace missing values with the mean or median of the available data for that attribute.\n",
    "2. Mode imputation: replace missing values with the most frequent value in that attribute.\n",
    "3. Regression imputation: use regression analysis to predict missing values based on other variables."
   ]
  },
  {
   "cell_type": "code",
   "execution_count": 2,
   "id": "6dde5b64-7e89-45bc-9fc5-2e857771e7be",
   "metadata": {},
   "outputs": [
    {
     "name": "stdout",
     "output_type": "stream",
     "text": [
      "    Name   Age\n",
      "0   John  20.0\n",
      "1   Mary  25.0\n",
      "2    Bob  25.0\n",
      "3  Alice  30.0\n"
     ]
    }
   ],
   "source": [
    "# An example of mean imputation \n",
    "\n",
    "import pandas as pd\n",
    "\n",
    "# create a sample dataframe\n",
    "df = pd.DataFrame({'Name': ['John', 'Mary', 'Bob', 'Alice'],\n",
    "                   'Age': [20, None, 25, 30]})\n",
    "\n",
    "# replace missing values with mean value of the column\n",
    "mean_age = df['Age'].mean()\n",
    "df['Age'].fillna(mean_age, inplace=True)\n",
    "\n",
    "print(df)"
   ]
  },
  {
   "cell_type": "markdown",
   "id": "35284e38-84be-495f-b662-6e4e3d0cf3df",
   "metadata": {},
   "source": [
    "Q3: Explain the imbalanced data. What will happen if imbalanced data is not handled?"
   ]
  },
  {
   "cell_type": "markdown",
   "id": "84eb4d9c-94e6-441a-a8b4-1e8b2c568007",
   "metadata": {},
   "source": [
    "Answer 3: Imbalanced data refers to a situation in which the classes in a classification problem are not represented equally in the dataset. \n",
    "\n",
    "If imbalanced data is not handled properly, it can lead to several issues. One common problem is that the classifier can become biased towards the majority class and perform poorly on the minority class.  \n",
    "\n",
    "Another problem is that the classifier may have a high overall accuracy. This can make it difficult to detect when the classifier is failing to correctly classify instances of the minority class."
   ]
  },
  {
   "cell_type": "markdown",
   "id": "786781e2-1678-46f6-a85e-8d7a3d811431",
   "metadata": {},
   "source": [
    "Q4: What are Up-sampling and Down-sampling? Explain with an example when up-sampling and down-\n",
    "sampling are required."
   ]
  },
  {
   "cell_type": "markdown",
   "id": "88f1f0d0-c42a-4e71-b5d3-ab81200e5555",
   "metadata": {},
   "source": [
    "Answer 4: \n",
    "Upsampling refers to the technique of increasing the number of instances in the minority class. This can be done by randomly replicating instances from the minority class until it reaches the same size as the majority class. .\n",
    "\n",
    "Downsampling, on the other hand, refers to the technique of decreasing the number of instances in the majority class. This can be done by randomly removing instances from the majority class until it reaches the same size as the minority class. \n",
    "\n",
    "When to use up-sampling and down-sampling techniques depends on the specifics of the problem and the dataset. If the dataset is heavily imbalanced and the number of instances in the minority class is very small, then up-sampling may be more appropriate. On the other hand, if the dataset is only moderately imbalanced and the majority class has many instances, then downsampling may be more appropriate.\n",
    "\n",
    "For example, in a credit card fraud detection problem, we may have a dataset with 100,000 transactions, out of which only 1,000 are fraudulent. Since the number of fraudulent transactions is small, we may choose to upsample the minority class to ensure that the classifier can accurately identify fraudulent transactions. However, in a churn prediction problem, where the dataset contains 100,000 instances, out of which 20,000 are churn cases, we may choose to downsample the majority class to ensure that the classifier is not biased towards predicting non-churn cases."
   ]
  },
  {
   "cell_type": "markdown",
   "id": "2f046810-bbcd-4db6-b532-d388ffb4aa59",
   "metadata": {},
   "source": [
    "Q5: What is data Augmentation? Explain SMOTE."
   ]
  },
  {
   "cell_type": "markdown",
   "id": "c5e3936b-067e-4d79-b379-3704fef1bcd1",
   "metadata": {},
   "source": [
    "Answer 5: Data augmentation is a technique used in machine learning to artificially increase the size of the dataset by creating new instances based on the existing data. This technique is particularly useful when the dataset is small or imbalanced. \n",
    "\n",
    "SMOTE (Synthetic Minority Over-sampling Technique) is a type of data augmentation technique used specifically for imbalanced datasets. SMOTE works by generating synthetic instances of the minority class by interpolating between existing minority class instances. \n",
    "\n",
    "SMOTE selects a minority class instance and finds its k nearest minority class neighbors (k is a parameter specified by the user). SMOTE then selects one of the k nearest neighbors and generates a synthetic instance by interpolating between the selected instance and the original instance. The interpolation is done by selecting a random point on the line segment joining the two instances. This process is repeated until the desired number of synthetic instances is generated. SMOTE can be implemented using various machine learning libraries, including scikit-learn in Python."
   ]
  },
  {
   "cell_type": "markdown",
   "id": "7e437c02-0776-4e80-a9ea-f10cb553f48b",
   "metadata": {},
   "source": [
    "Q6: What are outliers in a dataset? Why is it essential to handle outliers?"
   ]
  },
  {
   "cell_type": "markdown",
   "id": "fb5e336a-7b55-4a0f-8b6e-b12d7419316a",
   "metadata": {},
   "source": [
    "Answer 6: Outliers are data points that are significantly different from other observations in the dataset.\n",
    "\n",
    "It is essential to handle outliers in a dataset for the following reasons:\n",
    "\n",
    "1. Outliers can affect the statistical measures of a dataset and can result in incorrect conclusions.\n",
    "\n",
    "2. Outliers can affect the performance of machine learning models and can lead to overfitting or underfitting.\n",
    "\n",
    "4. Outliers can affect the accuracy of predictive models, as they can introduce noise and reduce the predictive power of the model."
   ]
  },
  {
   "cell_type": "markdown",
   "id": "b0752539-5bf9-4639-bd4b-afec12a0894b",
   "metadata": {},
   "source": [
    "Q7: You are working on a project that requires analyzing customer data. However, you notice that some of\n",
    "the data is missing. What are some techniques you can use to handle the missing data in your analysis?"
   ]
  },
  {
   "cell_type": "markdown",
   "id": "88d992e3-7e6f-4ccd-8e02-1d26a819d059",
   "metadata": {},
   "source": [
    "Answer 7: There are several techniques that can be used to handle missing data in a dataset. Some of these techniques are:\n",
    "\n",
    "1. Deletion \n",
    "2. Mean/Mode/Median Imputation\n",
    "3. Regression imputation\n",
    "4. K-Nearest Neighbors Imputation\n",
    "5. Multiple imputation"
   ]
  },
  {
   "cell_type": "markdown",
   "id": "e8488f51-dbac-4ae5-9268-982d9c91d65d",
   "metadata": {},
   "source": [
    "Q8: You are working with a large dataset and find that a small percentage of the data is missing. What are\n",
    "some strategies you can use to determine if the missing data is missing at random or if there is a pattern\n",
    "to the missing data?"
   ]
  },
  {
   "cell_type": "markdown",
   "id": "4b4bc2a5-193c-42a0-b1d4-62ccb481e4da",
   "metadata": {},
   "source": [
    "Answer 8: There are several strategies that can be used to determine if the missing data is missing at random or if there is a pattern to the missing data:\n",
    "1. Missingness pattern visualization\n",
    "2. Correlation analysis\n",
    "3. Hypothesis testing\n",
    "4. Machine learning models"
   ]
  },
  {
   "cell_type": "markdown",
   "id": "db0277fa-afe5-4e00-9e4a-1cecdaf21d01",
   "metadata": {},
   "source": [
    "Q9: Suppose you are working on a medical diagnosis project and find that the majority of patients in the\n",
    "dataset do not have the condition of interest, while a small percentage do. What are some strategies you\n",
    "can use to evaluate the performance of your machine learning model on this imbalanced dataset?"
   ]
  },
  {
   "cell_type": "markdown",
   "id": "2cdf28d8-385a-460d-a5c1-411b5be56b94",
   "metadata": {},
   "source": [
    "Answer 9: In this situation, it is important to use appropriate evaluation metrics that can account for the imbalanced nature of the dataset. Some strategies to evaluate the performance of a machine learning model on an imbalanced dataset are:\n",
    "\n",
    "1. Confusion matrix\n",
    "2. ROC curve\n",
    "3. Precision-Recall curve\n",
    "4. Stratified cross-validation\n",
    "5. Resampling techniques"
   ]
  },
  {
   "cell_type": "markdown",
   "id": "c6b0992d-6ec3-4949-97be-f255618227f7",
   "metadata": {},
   "source": [
    "Q10: When attempting to estimate customer satisfaction for a project, you discover that the dataset is\n",
    "unbalanced, with the bulk of customers reporting being satisfied. What methods can you employ to\n",
    "balance the dataset and down-sample the majority class?"
   ]
  },
  {
   "cell_type": "markdown",
   "id": "c4d7f019-df11-47bf-aef3-dcf9e292a51e",
   "metadata": {},
   "source": [
    "Answer 10: To balance the dataset and down-sample the majority class in an imbalanced dataset, the following methods can be used:\n",
    "\n",
    "1. Random Under-Sampling\n",
    "2. Random Over-Sampling\n",
    "3. Synthetic Minority Over-Sampling Technique (SMOTE)"
   ]
  },
  {
   "cell_type": "markdown",
   "id": "cd1cf4c0-07e8-451d-8195-e6df55978123",
   "metadata": {},
   "source": [
    "Q11: You discover that the dataset is unbalanced with a low percentage of occurrences while working on a\n",
    "project that requires you to estimate the occurrence of a rare event. What methods can you employ to\n",
    "balance the dataset and up-sample the minority class?"
   ]
  },
  {
   "cell_type": "markdown",
   "id": "2ba9b09c-dad1-4bfb-9214-9f7fd4909463",
   "metadata": {},
   "source": [
    "Answer 11: To balance the dataset and up-sample the minority class in an imbalanced dataset with a low percentage of occurrences, the following methods can be used:\n",
    "\n",
    "1. Random Over-Sampling\n",
    "2. Synthetic Minority Over-Sampling Technique (SMOTE)\n",
    "3. Adaptive Synthetic Sampling (ADASYN)"
   ]
  }
 ],
 "metadata": {
  "kernelspec": {
   "display_name": "Python 3 (ipykernel)",
   "language": "python",
   "name": "python3"
  },
  "language_info": {
   "codemirror_mode": {
    "name": "ipython",
    "version": 3
   },
   "file_extension": ".py",
   "mimetype": "text/x-python",
   "name": "python",
   "nbconvert_exporter": "python",
   "pygments_lexer": "ipython3",
   "version": "3.10.8"
  }
 },
 "nbformat": 4,
 "nbformat_minor": 5
}
