{
 "cells": [
  {
   "cell_type": "markdown",
   "id": "078ad0e6-b430-45e3-bdd4-f830e79929ca",
   "metadata": {},
   "source": [
    "Q1. What is data encoding? How is it useful in data science?"
   ]
  },
  {
   "cell_type": "markdown",
   "id": "ab552a3b-2212-4bcd-bf42-eb159f3e504d",
   "metadata": {},
   "source": [
    "Answer 1: Data encoding is the process of converting data from one format or representation to another. \n",
    "\n",
    "In data science, data encoding is particularly useful for transforming categorical data into numerical data that can be used as input for machine learning models."
   ]
  },
  {
   "cell_type": "markdown",
   "id": "cf6d9fc1-56d5-4cba-9bde-5d44c3e11331",
   "metadata": {},
   "source": [
    "Q2. What is nominal encoding? Provide an example of how you would use it in a real-world scenario."
   ]
  },
  {
   "cell_type": "markdown",
   "id": "0ea8dea6-b9d3-4578-9772-4ef5ce4a73fe",
   "metadata": {},
   "source": [
    "Answer 2: Nominal encoding is a type of data encoding used to convert categorical data into a numerical format. In nominal encoding, each unique category in the categorical feature is assigned a unique integer value. However, unlike ordinal encoding, these integer values have no inherent order or meaning.\n",
    "\n",
    "One common example of nominal encoding is to encode the colors of a product in an e-commerce dataset. Suppose we have a dataset of products, each of which can be one of three colors: red, blue, or green. To use this categorical feature in a machine learning model, we can apply nominal encoding to convert the categorical data into numerical data.\n",
    "\n",
    "For nominal encoding, we can assign each unique color category a unique integer value as follows:\n",
    "\n",
    "Red: 0\n",
    "Blue: 1\n",
    "Green: 2\n",
    "After applying nominal encoding to the color feature, the resulting numerical data can be used as input for machine learning algorithms."
   ]
  },
  {
   "cell_type": "markdown",
   "id": "eb412b30-a7c3-4caa-82d0-6c5257ac4cad",
   "metadata": {},
   "source": [
    "Q3. In what situations is nominal encoding preferred over one-hot encoding? Provide a practical example."
   ]
  },
  {
   "cell_type": "markdown",
   "id": "e368ed1a-a06a-43af-b4f2-c9b3ae79d7e6",
   "metadata": {},
   "source": [
    "Answer 3: Nominal encoding assigns each unique category in a feature a unique integer value, while one-hot encoding creates a new binary feature for each unique category in the original feature.\n",
    "\n",
    "Nominal encoding may be preferred over one-hot encoding in situations where the categorical feature has many unique categories, and one-hot encoding would result in a large number of new features. In cases where the number of unique categories is high, one-hot encoding can result in the \"curse of dimensionality,\" where the number of features exceeds the number of observations in the dataset. This can lead to overfitting and decreased model performance.\n",
    "\n",
    "One practical example where nominal encoding may be preferred over one-hot encoding is in a dataset of customer reviews for a restaurant, where one of the features is the type of cuisine (e.g., Italian, Chinese, Mexican, etc.). In this case, nominal encoding could be used instead, where each unique cuisine category is assigned a unique integer value. This would result in a much smaller number of new features, making it more computationally efficient and reducing the risk of overfitting."
   ]
  },
  {
   "cell_type": "markdown",
   "id": "07d879fa-0d7c-41d7-a884-b6b94fbd8a81",
   "metadata": {},
   "source": [
    "Q4. Suppose you have a dataset containing categorical data with 5 unique values. Which encoding\n",
    "technique would you use to transform this data into a format suitable for machine learning algorithms?\n",
    "Explain why you made this choice."
   ]
  },
  {
   "cell_type": "markdown",
   "id": "dcd81d66-3609-46e2-8212-5ecd8637e57a",
   "metadata": {},
   "source": [
    "Answer 4: If the categorical feature has a small number of unique categories, one-hot encoding is a suitable technique to use. One-hot encoding would create a new binary column for each unique category, which can be used as input features in machine learning models.\n",
    "\n",
    "One-hot encoding is a suitable technique because it is simple, effective, and it preserves the relationship between the different categories. In addition, since there are only 5 unique values, the resulting one-hot encoded features would not create a large number of additional columns, which could lead to overfitting or memory issues."
   ]
  },
  {
   "cell_type": "markdown",
   "id": "e961c5b7-4045-45c4-bccd-606ce76951c7",
   "metadata": {},
   "source": [
    "Q5. In a machine learning project, you have a dataset with 1000 rows and 5 columns. Two of the columns\n",
    "are categorical, and the remaining three columns are numerical. If you were to use nominal encoding to\n",
    "transform the categorical data, how many new columns would be created? Show your calculations."
   ]
  },
  {
   "cell_type": "markdown",
   "id": "89eb2bfe-d4b3-4b18-91ac-bc923bf336cd",
   "metadata": {},
   "source": [
    "Answer 5: To determine the number of new columns that would be created by nominal encoding, we first need to calculate the number of unique categories in each categorical feature.\n",
    "\n",
    "Let's assume that the first categorical feature has 4 unique categories and the second categorical feature has 6 unique categories.\n",
    "\n",
    "For the first categorical feature, nominal encoding would create 4 new binary columns, one for each category. For the second categorical feature, nominal encoding would create 6 new binary columns, one for each category.\n",
    "\n",
    "Therefore, the total number of new columns created by nominal encoding would be:\n",
    "\n",
    "4 + 6 = 10\n",
    "\n",
    "So, using nominal encoding on the two categorical features would result in 10 new columns in the dataset."
   ]
  },
  {
   "cell_type": "markdown",
   "id": "45d9939f-eb30-4645-8f6c-d0698e856e98",
   "metadata": {},
   "source": [
    "Q6. You are working with a dataset containing information about different types of animals, including their\n",
    "species, habitat, and diet. Which encoding technique would you use to transform the categorical data into\n",
    "a format suitable for machine learning algorithms? Justify your answer."
   ]
  },
  {
   "cell_type": "markdown",
   "id": "81fbf26e-186c-4927-a5c6-6148796a7852",
   "metadata": {},
   "source": [
    "Answer 6: \n",
    "Based on the given information, we can't determine the number of unique categories in each categorical feature or whether there is an inherent ordering or hierarchy in the categories. Therefore, the best encoding technique to use on the given animal dataset would depend on further analysis of the dataset and the specific machine learning problem being solved.\n",
    "\n",
    "In general, a common approach would be to start with one-hot encoding and evaluate the performance of the machine learning model. If the number of unique categories is very large or if the performance is not satisfactory, we can consider other encoding techniques."
   ]
  },
  {
   "cell_type": "markdown",
   "id": "a3c101b9-8bfc-4ac3-abc3-90d89c4e8775",
   "metadata": {},
   "source": [
    "Q7.You are working on a project that involves predicting customer churn for a telecommunications\n",
    "company. You have a dataset with 5 features, including the customer's gender, age, contract type,\n",
    "monthly charges, and tenure. Which encoding technique(s) would you use to transform the categorical\n",
    "data into numerical data? Provide a step-by-step explanation of how you would implement the encoding."
   ]
  },
  {
   "cell_type": "markdown",
   "id": "ac754ee2-6d24-4707-bd69-b9a2fc40d1c7",
   "metadata": {},
   "source": [
    "Answer 7: \n",
    "\n",
    "Identify the categorical features: In the given dataset, the only categorical feature is the contract type, which can take on values such as \"month-to-month,\" \"one year,\" and \"two year.\"\n",
    "\n",
    "Choose an encoding technique: One possible encoding technique for contract type is one-hot encoding. This technique would create a new binary column for each unique category of contract type, which can be used as input features in machine learning models.\n",
    "\n",
    "Implement the encoding: Here's how we could implement one-hot encoding for the contract type feature in Python using the pandas library:\n",
    "\n",
    "import pandas as pd\n",
    "\n",
    "# Load the dataset into a pandas DataFrame\n",
    "df = pd.read_csv('customer_churn.csv')\n",
    "\n",
    "# Identify the categorical feature\n",
    "cat_feature = 'Contract'\n",
    "\n",
    "# Apply one-hot encoding to the categorical feature\n",
    "onehot = pd.get_dummies(df[cat_feature], prefix=cat_feature)\n",
    "\n",
    "# Add the new one-hot encoded columns to the dataset\n",
    "df = pd.concat([df, onehot], axis=1)\n",
    "\n",
    "# Remove the original categorical feature\n",
    "df.drop(cat_feature, axis=1, inplace=True)\n",
    "\n",
    "Interpret the results: After applying one-hot encoding, the dataset now contains additional binary columns for each unique category of the contract type feature. These binary columns can now be used as input features in machine learning models to predict customer churn. Note that we did not need to encode the gender feature, as it is already in numerical format (i.e., binary, with values of 0 or 1). The age, monthly charges, and tenure features are already in numerical format and do not require encoding."
   ]
  }
 ],
 "metadata": {
  "kernelspec": {
   "display_name": "Python 3 (ipykernel)",
   "language": "python",
   "name": "python3"
  },
  "language_info": {
   "codemirror_mode": {
    "name": "ipython",
    "version": 3
   },
   "file_extension": ".py",
   "mimetype": "text/x-python",
   "name": "python",
   "nbconvert_exporter": "python",
   "pygments_lexer": "ipython3",
   "version": "3.10.8"
  }
 },
 "nbformat": 4,
 "nbformat_minor": 5
}
